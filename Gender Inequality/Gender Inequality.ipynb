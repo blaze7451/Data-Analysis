{
 "cells": [
  {
   "cell_type": "code",
   "execution_count": 3,
   "metadata": {},
   "outputs": [],
   "source": [
    "import numpy as np\n",
    "import pandas as pd\n",
    "%matplotlib inline\n",
    "import matplotlib.pyplot as plt\n",
    "import seaborn as sns\n",
    "import plotly.express as px"
   ]
  },
  {
   "cell_type": "code",
   "execution_count": 4,
   "metadata": {},
   "outputs": [
    {
     "name": "stdout",
     "output_type": "stream",
     "text": [
      "       Country ISO3  Overall Rank  Overall Score  \\\n",
      "0      Iceland  ISL             1         0.8731   \n",
      "1      Finland  FIN             2         0.8421   \n",
      "2       Norway  NOR             3         0.8417   \n",
      "3       Sweden  SWE             4         0.8129   \n",
      "4  Philippines  PHL             5         0.7832   \n",
      "\n",
      "   Economic Participation and Opportunity Rank  \\\n",
      "0                                           22   \n",
      "1                                           19   \n",
      "2                                            1   \n",
      "3                                           14   \n",
      "4                                           16   \n",
      "\n",
      "   Economic Participation and Opportunity Score  Educational Attainment Rank  \\\n",
      "0                                        0.7684                            1   \n",
      "1                                        0.7727                            1   \n",
      "2                                        0.8357                            1   \n",
      "3                                        0.7829                           38   \n",
      "4                                        0.7773                            1   \n",
      "\n",
      "   Educational Attainment Score  Health and Survival Rank  \\\n",
      "0                        1.0000                        97   \n",
      "1                        1.0000                         1   \n",
      "2                        1.0000                        93   \n",
      "3                        0.9977                        69   \n",
      "4                        1.0000                         1   \n",
      "\n",
      "   Health and Survival Score  Political Empowerment Rank  \\\n",
      "0                     0.9696                           1   \n",
      "1                     0.9796                           2   \n",
      "2                     0.9697                           3   \n",
      "3                     0.9735                           4   \n",
      "4                     0.9796                          10   \n",
      "\n",
      "   Political Empowerment Score  \n",
      "0                       0.7544  \n",
      "1                       0.6162  \n",
      "2                       0.5616  \n",
      "3                       0.4976  \n",
      "4                       0.3760  \n"
     ]
    }
   ],
   "source": [
    "df=pd.read_csv(\"table-3b-detailed-rankings-2013-csv-2.csv\", encoding=\"unicode_escape\")\n",
    "df_timeseries=pd.read_csv(\"global-gender-gap-index-2013 - Table 3a - Index 2013 - 2006.csv\", encoding=\"unicode_escape\")\n",
    "\n",
    "print(df.head())"
   ]
  },
  {
   "cell_type": "code",
   "execution_count": 5,
   "metadata": {},
   "outputs": [
    {
     "name": "stdout",
     "output_type": "stream",
     "text": [
      "       Country ISO3  2013 Rank  2013 Score  2012 Countries  2012 Rank  \\\n",
      "0      Iceland  ISL          1      0.8731             1.0        1.0   \n",
      "1      Finland  FIN          2      0.8421             2.0        2.0   \n",
      "2       Norway  NOR          3      0.8417             3.0        3.0   \n",
      "3       Sweden  SWE          4      0.8129             4.0        4.0   \n",
      "4  Philippines  PHL          5      0.7832             5.0        8.0   \n",
      "\n",
      "   2012 Score  2011 Rank  2011 Score  2010 Rank  2010 Score  2009 Rank  \\\n",
      "0      0.8640        1.0      0.8530        1.0      0.8496        1.0   \n",
      "1      0.8451        3.0      0.8383        3.0      0.8260        2.0   \n",
      "2      0.8403        2.0      0.8404        2.0      0.8404        3.0   \n",
      "3      0.8159        4.0      0.8044        4.0      0.8024        4.0   \n",
      "4      0.7757        8.0      0.7685        9.0      0.7654        9.0   \n",
      "\n",
      "   2009 Score  2008 Rank  2008 Score  2007 Rank  2007 Score  2006 Rank  \\\n",
      "0      0.8276        4.0      0.7999        4.0      0.7836        4.0   \n",
      "1      0.8252        2.0      0.8195        3.0      0.8044        3.0   \n",
      "2      0.8227        1.0      0.8239        2.0      0.8059        2.0   \n",
      "3      0.8139        3.0      0.8139        1.0      0.8146        1.0   \n",
      "4      0.7579        6.0      0.7568        6.0      0.7629        6.0   \n",
      "\n",
      "   2006 Score  \n",
      "0      0.7813  \n",
      "1      0.7958  \n",
      "2      0.7994  \n",
      "3      0.8133  \n",
      "4      0.7516  \n"
     ]
    }
   ],
   "source": [
    "print(df_timeseries.head())"
   ]
  },
  {
   "cell_type": "code",
   "execution_count": 6,
   "metadata": {},
   "outputs": [
    {
     "name": "stdout",
     "output_type": "stream",
     "text": [
      "<class 'pandas.core.frame.DataFrame'>\n",
      "RangeIndex: 136 entries, 0 to 135\n",
      "Data columns (total 12 columns):\n",
      " #   Column                                        Non-Null Count  Dtype  \n",
      "---  ------                                        --------------  -----  \n",
      " 0   Country                                       136 non-null    object \n",
      " 1   ISO3                                          136 non-null    object \n",
      " 2   Overall Rank                                  136 non-null    int64  \n",
      " 3   Overall Score                                 136 non-null    float64\n",
      " 4   Economic Participation and Opportunity Rank   136 non-null    int64  \n",
      " 5   Economic Participation and Opportunity Score  136 non-null    float64\n",
      " 6   Educational Attainment Rank                   136 non-null    int64  \n",
      " 7   Educational Attainment Score                  136 non-null    float64\n",
      " 8   Health and Survival Rank                      136 non-null    int64  \n",
      " 9   Health and Survival Score                     136 non-null    float64\n",
      " 10  Political Empowerment Rank                    136 non-null    int64  \n",
      " 11  Political Empowerment Score                   136 non-null    float64\n",
      "dtypes: float64(5), int64(5), object(2)\n",
      "memory usage: 12.9+ KB\n",
      "None\n"
     ]
    }
   ],
   "source": [
    "print(df.info())\n"
   ]
  },
  {
   "cell_type": "code",
   "execution_count": 7,
   "metadata": {},
   "outputs": [
    {
     "name": "stdout",
     "output_type": "stream",
     "text": [
      "<class 'pandas.core.frame.DataFrame'>\n",
      "RangeIndex: 136 entries, 0 to 135\n",
      "Data columns (total 19 columns):\n",
      " #   Column          Non-Null Count  Dtype  \n",
      "---  ------          --------------  -----  \n",
      " 0   Country         136 non-null    object \n",
      " 1   ISO3            136 non-null    object \n",
      " 2   2013 Rank       136 non-null    int64  \n",
      " 3   2013 Score      136 non-null    float64\n",
      " 4   2012 Countries  133 non-null    float64\n",
      " 5   2012 Rank       133 non-null    float64\n",
      " 6   2012 Score      133 non-null    float64\n",
      " 7   2011 Rank       131 non-null    float64\n",
      " 8   2011 Score      131 non-null    float64\n",
      " 9   2010 Rank       130 non-null    float64\n",
      " 10  2010 Score      130 non-null    float64\n",
      " 11  2009 Rank       128 non-null    float64\n",
      " 12  2009 Score      128 non-null    float64\n",
      " 13  2008 Rank       124 non-null    float64\n",
      " 14  2008 Score      124 non-null    float64\n",
      " 15  2007 Rank       122 non-null    float64\n",
      " 16  2007 Score      122 non-null    float64\n",
      " 17  2006 Rank       110 non-null    float64\n",
      " 18  2006 Score      110 non-null    float64\n",
      "dtypes: float64(16), int64(1), object(2)\n",
      "memory usage: 20.3+ KB\n",
      "None\n"
     ]
    }
   ],
   "source": [
    "print(df_timeseries.info())"
   ]
  },
  {
   "cell_type": "code",
   "execution_count": 8,
   "metadata": {},
   "outputs": [
    {
     "name": "stdout",
     "output_type": "stream",
     "text": [
      "Country                                         0\n",
      "ISO3                                            0\n",
      "Overall Rank                                    0\n",
      "Overall Score                                   0\n",
      "Economic Participation and Opportunity Rank     0\n",
      "Economic Participation and Opportunity Score    0\n",
      "Educational Attainment Rank                     0\n",
      "Educational Attainment Score                    0\n",
      "Health and Survival Rank                        0\n",
      "Health and Survival Score                       0\n",
      "Political Empowerment Rank                      0\n",
      "Political Empowerment Score                     0\n",
      "dtype: int64\n"
     ]
    }
   ],
   "source": [
    "print(df.isnull().sum())"
   ]
  },
  {
   "cell_type": "code",
   "execution_count": 9,
   "metadata": {},
   "outputs": [],
   "source": [
    "#preprocessing the data\n",
    "df_timeseries=df_timeseries.dropna()"
   ]
  },
  {
   "cell_type": "code",
   "execution_count": 10,
   "metadata": {},
   "outputs": [
    {
     "data": {
      "application/vnd.plotly.v1+json": {
       "config": {
        "plotlyServerURL": "https://plot.ly"
       },
       "data": [
        {
         "coloraxis": "coloraxis",
         "geo": "geo",
         "hovertemplate": "ISO3=%{location}<br>Overall Rank=%{z}<extra></extra>",
         "locations": [
          "ISL",
          "FIN",
          "NOR",
          "SWE",
          "PHL",
          "IRL",
          "NZL",
          "DNK",
          "CHE",
          "NIC",
          "BEL",
          "LVA",
          "NLD",
          "DEU",
          "CUB",
          "LSO",
          "ZAF",
          "GBR",
          "AUT",
          "CAN",
          "LUX",
          "BDI",
          "USA",
          "AUS",
          "ECU",
          "MOZ",
          "BOL",
          "LTU",
          "BRB",
          "ESP",
          "CRI",
          "KAZ",
          "MNG",
          "ARG",
          "COL",
          "TTO",
          "PAN",
          "SVN",
          "MWI",
          "BHS",
          "CPV",
          "SRB",
          "BGR",
          "NAM",
          "FRA",
          "UGA",
          "JAM",
          "GUY",
          "HRV",
          "VEN",
          "PRT",
          "MDA",
          "ISR",
          "POL",
          "LKA",
          "MDG",
          "MKD",
          "SGP",
          "EST",
          "LAO",
          "RUS",
          "BRA",
          "KGZ",
          "UKR",
          "THA",
          "TZA",
          "SEN",
          "MEX",
          "CHN",
          "ROU",
          "ITA",
          "DOM",
          "VNM",
          "SVK",
          "BGD",
          "GHA",
          "URY",
          "KEN",
          "CYP",
          "PER",
          "GRC",
          "HND",
          "CZE",
          "MLT",
          "BWA",
          "GEO",
          "HUN",
          "BRN",
          "PRY",
          "TJK",
          "CHL",
          "AGO",
          "BTN",
          "ARM",
          "IDN",
          "SLV",
          "MDV",
          "MUS",
          "AZE",
          "CMR",
          "IND",
          "MYS",
          "BFA",
          "KHM",
          "JPN",
          "NGA",
          "BLZ",
          "ALB",
          "ARE",
          "SUR",
          "KOR",
          "BHR",
          "ZMB",
          "GTM",
          "QAT",
          "KWT",
          "FJI",
          "ETH",
          "JOR",
          "TUR",
          "NPL",
          "OMN",
          "LBN",
          "DZA",
          "EGY",
          "BEN",
          "SAU",
          "MLI",
          "MAR",
          "IRN",
          "CIV",
          "MRT",
          "SYR",
          "TCD",
          "PAK",
          "YEM"
         ],
         "name": "",
         "type": "choropleth",
         "z": [
          1,
          2,
          3,
          4,
          5,
          6,
          7,
          8,
          9,
          10,
          11,
          12,
          13,
          14,
          15,
          16,
          17,
          18,
          19,
          20,
          21,
          22,
          23,
          24,
          25,
          26,
          27,
          28,
          29,
          30,
          31,
          32,
          33,
          34,
          35,
          36,
          37,
          38,
          39,
          40,
          41,
          42,
          43,
          44,
          45,
          46,
          47,
          48,
          49,
          50,
          51,
          52,
          53,
          54,
          55,
          56,
          57,
          58,
          59,
          60,
          61,
          62,
          63,
          64,
          65,
          66,
          67,
          68,
          69,
          70,
          71,
          72,
          73,
          74,
          75,
          76,
          77,
          78,
          79,
          80,
          81,
          82,
          83,
          84,
          85,
          86,
          87,
          88,
          89,
          90,
          91,
          92,
          93,
          94,
          95,
          96,
          97,
          98,
          99,
          100,
          101,
          102,
          103,
          104,
          105,
          106,
          107,
          108,
          109,
          110,
          111,
          112,
          113,
          114,
          115,
          116,
          117,
          118,
          119,
          120,
          121,
          122,
          123,
          124,
          125,
          126,
          127,
          128,
          129,
          130,
          131,
          132,
          133,
          134,
          135,
          136
         ]
        }
       ],
       "layout": {
        "coloraxis": {
         "colorbar": {
          "title": {
           "text": "Overall Rank"
          }
         },
         "colorscale": [
          [
           0,
           "#0d0887"
          ],
          [
           0.1111111111111111,
           "#46039f"
          ],
          [
           0.2222222222222222,
           "#7201a8"
          ],
          [
           0.3333333333333333,
           "#9c179e"
          ],
          [
           0.4444444444444444,
           "#bd3786"
          ],
          [
           0.5555555555555556,
           "#d8576b"
          ],
          [
           0.6666666666666666,
           "#ed7953"
          ],
          [
           0.7777777777777778,
           "#fb9f3a"
          ],
          [
           0.8888888888888888,
           "#fdca26"
          ],
          [
           1,
           "#f0f921"
          ]
         ]
        },
        "geo": {
         "center": {},
         "domain": {
          "x": [
           0,
           1
          ],
          "y": [
           0,
           1
          ]
         },
         "projection": {
          "type": "kavrayskiy7"
         },
         "scope": "world"
        },
        "legend": {
         "tracegroupgap": 0
        },
        "template": {
         "data": {
          "bar": [
           {
            "error_x": {
             "color": "#2a3f5f"
            },
            "error_y": {
             "color": "#2a3f5f"
            },
            "marker": {
             "line": {
              "color": "#E5ECF6",
              "width": 0.5
             },
             "pattern": {
              "fillmode": "overlay",
              "size": 10,
              "solidity": 0.2
             }
            },
            "type": "bar"
           }
          ],
          "barpolar": [
           {
            "marker": {
             "line": {
              "color": "#E5ECF6",
              "width": 0.5
             },
             "pattern": {
              "fillmode": "overlay",
              "size": 10,
              "solidity": 0.2
             }
            },
            "type": "barpolar"
           }
          ],
          "carpet": [
           {
            "aaxis": {
             "endlinecolor": "#2a3f5f",
             "gridcolor": "white",
             "linecolor": "white",
             "minorgridcolor": "white",
             "startlinecolor": "#2a3f5f"
            },
            "baxis": {
             "endlinecolor": "#2a3f5f",
             "gridcolor": "white",
             "linecolor": "white",
             "minorgridcolor": "white",
             "startlinecolor": "#2a3f5f"
            },
            "type": "carpet"
           }
          ],
          "choropleth": [
           {
            "colorbar": {
             "outlinewidth": 0,
             "ticks": ""
            },
            "type": "choropleth"
           }
          ],
          "contour": [
           {
            "colorbar": {
             "outlinewidth": 0,
             "ticks": ""
            },
            "colorscale": [
             [
              0,
              "#0d0887"
             ],
             [
              0.1111111111111111,
              "#46039f"
             ],
             [
              0.2222222222222222,
              "#7201a8"
             ],
             [
              0.3333333333333333,
              "#9c179e"
             ],
             [
              0.4444444444444444,
              "#bd3786"
             ],
             [
              0.5555555555555556,
              "#d8576b"
             ],
             [
              0.6666666666666666,
              "#ed7953"
             ],
             [
              0.7777777777777778,
              "#fb9f3a"
             ],
             [
              0.8888888888888888,
              "#fdca26"
             ],
             [
              1,
              "#f0f921"
             ]
            ],
            "type": "contour"
           }
          ],
          "contourcarpet": [
           {
            "colorbar": {
             "outlinewidth": 0,
             "ticks": ""
            },
            "type": "contourcarpet"
           }
          ],
          "heatmap": [
           {
            "colorbar": {
             "outlinewidth": 0,
             "ticks": ""
            },
            "colorscale": [
             [
              0,
              "#0d0887"
             ],
             [
              0.1111111111111111,
              "#46039f"
             ],
             [
              0.2222222222222222,
              "#7201a8"
             ],
             [
              0.3333333333333333,
              "#9c179e"
             ],
             [
              0.4444444444444444,
              "#bd3786"
             ],
             [
              0.5555555555555556,
              "#d8576b"
             ],
             [
              0.6666666666666666,
              "#ed7953"
             ],
             [
              0.7777777777777778,
              "#fb9f3a"
             ],
             [
              0.8888888888888888,
              "#fdca26"
             ],
             [
              1,
              "#f0f921"
             ]
            ],
            "type": "heatmap"
           }
          ],
          "heatmapgl": [
           {
            "colorbar": {
             "outlinewidth": 0,
             "ticks": ""
            },
            "colorscale": [
             [
              0,
              "#0d0887"
             ],
             [
              0.1111111111111111,
              "#46039f"
             ],
             [
              0.2222222222222222,
              "#7201a8"
             ],
             [
              0.3333333333333333,
              "#9c179e"
             ],
             [
              0.4444444444444444,
              "#bd3786"
             ],
             [
              0.5555555555555556,
              "#d8576b"
             ],
             [
              0.6666666666666666,
              "#ed7953"
             ],
             [
              0.7777777777777778,
              "#fb9f3a"
             ],
             [
              0.8888888888888888,
              "#fdca26"
             ],
             [
              1,
              "#f0f921"
             ]
            ],
            "type": "heatmapgl"
           }
          ],
          "histogram": [
           {
            "marker": {
             "pattern": {
              "fillmode": "overlay",
              "size": 10,
              "solidity": 0.2
             }
            },
            "type": "histogram"
           }
          ],
          "histogram2d": [
           {
            "colorbar": {
             "outlinewidth": 0,
             "ticks": ""
            },
            "colorscale": [
             [
              0,
              "#0d0887"
             ],
             [
              0.1111111111111111,
              "#46039f"
             ],
             [
              0.2222222222222222,
              "#7201a8"
             ],
             [
              0.3333333333333333,
              "#9c179e"
             ],
             [
              0.4444444444444444,
              "#bd3786"
             ],
             [
              0.5555555555555556,
              "#d8576b"
             ],
             [
              0.6666666666666666,
              "#ed7953"
             ],
             [
              0.7777777777777778,
              "#fb9f3a"
             ],
             [
              0.8888888888888888,
              "#fdca26"
             ],
             [
              1,
              "#f0f921"
             ]
            ],
            "type": "histogram2d"
           }
          ],
          "histogram2dcontour": [
           {
            "colorbar": {
             "outlinewidth": 0,
             "ticks": ""
            },
            "colorscale": [
             [
              0,
              "#0d0887"
             ],
             [
              0.1111111111111111,
              "#46039f"
             ],
             [
              0.2222222222222222,
              "#7201a8"
             ],
             [
              0.3333333333333333,
              "#9c179e"
             ],
             [
              0.4444444444444444,
              "#bd3786"
             ],
             [
              0.5555555555555556,
              "#d8576b"
             ],
             [
              0.6666666666666666,
              "#ed7953"
             ],
             [
              0.7777777777777778,
              "#fb9f3a"
             ],
             [
              0.8888888888888888,
              "#fdca26"
             ],
             [
              1,
              "#f0f921"
             ]
            ],
            "type": "histogram2dcontour"
           }
          ],
          "mesh3d": [
           {
            "colorbar": {
             "outlinewidth": 0,
             "ticks": ""
            },
            "type": "mesh3d"
           }
          ],
          "parcoords": [
           {
            "line": {
             "colorbar": {
              "outlinewidth": 0,
              "ticks": ""
             }
            },
            "type": "parcoords"
           }
          ],
          "pie": [
           {
            "automargin": true,
            "type": "pie"
           }
          ],
          "scatter": [
           {
            "fillpattern": {
             "fillmode": "overlay",
             "size": 10,
             "solidity": 0.2
            },
            "type": "scatter"
           }
          ],
          "scatter3d": [
           {
            "line": {
             "colorbar": {
              "outlinewidth": 0,
              "ticks": ""
             }
            },
            "marker": {
             "colorbar": {
              "outlinewidth": 0,
              "ticks": ""
             }
            },
            "type": "scatter3d"
           }
          ],
          "scattercarpet": [
           {
            "marker": {
             "colorbar": {
              "outlinewidth": 0,
              "ticks": ""
             }
            },
            "type": "scattercarpet"
           }
          ],
          "scattergeo": [
           {
            "marker": {
             "colorbar": {
              "outlinewidth": 0,
              "ticks": ""
             }
            },
            "type": "scattergeo"
           }
          ],
          "scattergl": [
           {
            "marker": {
             "colorbar": {
              "outlinewidth": 0,
              "ticks": ""
             }
            },
            "type": "scattergl"
           }
          ],
          "scattermapbox": [
           {
            "marker": {
             "colorbar": {
              "outlinewidth": 0,
              "ticks": ""
             }
            },
            "type": "scattermapbox"
           }
          ],
          "scatterpolar": [
           {
            "marker": {
             "colorbar": {
              "outlinewidth": 0,
              "ticks": ""
             }
            },
            "type": "scatterpolar"
           }
          ],
          "scatterpolargl": [
           {
            "marker": {
             "colorbar": {
              "outlinewidth": 0,
              "ticks": ""
             }
            },
            "type": "scatterpolargl"
           }
          ],
          "scatterternary": [
           {
            "marker": {
             "colorbar": {
              "outlinewidth": 0,
              "ticks": ""
             }
            },
            "type": "scatterternary"
           }
          ],
          "surface": [
           {
            "colorbar": {
             "outlinewidth": 0,
             "ticks": ""
            },
            "colorscale": [
             [
              0,
              "#0d0887"
             ],
             [
              0.1111111111111111,
              "#46039f"
             ],
             [
              0.2222222222222222,
              "#7201a8"
             ],
             [
              0.3333333333333333,
              "#9c179e"
             ],
             [
              0.4444444444444444,
              "#bd3786"
             ],
             [
              0.5555555555555556,
              "#d8576b"
             ],
             [
              0.6666666666666666,
              "#ed7953"
             ],
             [
              0.7777777777777778,
              "#fb9f3a"
             ],
             [
              0.8888888888888888,
              "#fdca26"
             ],
             [
              1,
              "#f0f921"
             ]
            ],
            "type": "surface"
           }
          ],
          "table": [
           {
            "cells": {
             "fill": {
              "color": "#EBF0F8"
             },
             "line": {
              "color": "white"
             }
            },
            "header": {
             "fill": {
              "color": "#C8D4E3"
             },
             "line": {
              "color": "white"
             }
            },
            "type": "table"
           }
          ]
         },
         "layout": {
          "annotationdefaults": {
           "arrowcolor": "#2a3f5f",
           "arrowhead": 0,
           "arrowwidth": 1
          },
          "autotypenumbers": "strict",
          "coloraxis": {
           "colorbar": {
            "outlinewidth": 0,
            "ticks": ""
           }
          },
          "colorscale": {
           "diverging": [
            [
             0,
             "#8e0152"
            ],
            [
             0.1,
             "#c51b7d"
            ],
            [
             0.2,
             "#de77ae"
            ],
            [
             0.3,
             "#f1b6da"
            ],
            [
             0.4,
             "#fde0ef"
            ],
            [
             0.5,
             "#f7f7f7"
            ],
            [
             0.6,
             "#e6f5d0"
            ],
            [
             0.7,
             "#b8e186"
            ],
            [
             0.8,
             "#7fbc41"
            ],
            [
             0.9,
             "#4d9221"
            ],
            [
             1,
             "#276419"
            ]
           ],
           "sequential": [
            [
             0,
             "#0d0887"
            ],
            [
             0.1111111111111111,
             "#46039f"
            ],
            [
             0.2222222222222222,
             "#7201a8"
            ],
            [
             0.3333333333333333,
             "#9c179e"
            ],
            [
             0.4444444444444444,
             "#bd3786"
            ],
            [
             0.5555555555555556,
             "#d8576b"
            ],
            [
             0.6666666666666666,
             "#ed7953"
            ],
            [
             0.7777777777777778,
             "#fb9f3a"
            ],
            [
             0.8888888888888888,
             "#fdca26"
            ],
            [
             1,
             "#f0f921"
            ]
           ],
           "sequentialminus": [
            [
             0,
             "#0d0887"
            ],
            [
             0.1111111111111111,
             "#46039f"
            ],
            [
             0.2222222222222222,
             "#7201a8"
            ],
            [
             0.3333333333333333,
             "#9c179e"
            ],
            [
             0.4444444444444444,
             "#bd3786"
            ],
            [
             0.5555555555555556,
             "#d8576b"
            ],
            [
             0.6666666666666666,
             "#ed7953"
            ],
            [
             0.7777777777777778,
             "#fb9f3a"
            ],
            [
             0.8888888888888888,
             "#fdca26"
            ],
            [
             1,
             "#f0f921"
            ]
           ]
          },
          "colorway": [
           "#636efa",
           "#EF553B",
           "#00cc96",
           "#ab63fa",
           "#FFA15A",
           "#19d3f3",
           "#FF6692",
           "#B6E880",
           "#FF97FF",
           "#FECB52"
          ],
          "font": {
           "color": "#2a3f5f"
          },
          "geo": {
           "bgcolor": "white",
           "lakecolor": "white",
           "landcolor": "#E5ECF6",
           "showlakes": true,
           "showland": true,
           "subunitcolor": "white"
          },
          "hoverlabel": {
           "align": "left"
          },
          "hovermode": "closest",
          "mapbox": {
           "style": "light"
          },
          "paper_bgcolor": "white",
          "plot_bgcolor": "#E5ECF6",
          "polar": {
           "angularaxis": {
            "gridcolor": "white",
            "linecolor": "white",
            "ticks": ""
           },
           "bgcolor": "#E5ECF6",
           "radialaxis": {
            "gridcolor": "white",
            "linecolor": "white",
            "ticks": ""
           }
          },
          "scene": {
           "xaxis": {
            "backgroundcolor": "#E5ECF6",
            "gridcolor": "white",
            "gridwidth": 2,
            "linecolor": "white",
            "showbackground": true,
            "ticks": "",
            "zerolinecolor": "white"
           },
           "yaxis": {
            "backgroundcolor": "#E5ECF6",
            "gridcolor": "white",
            "gridwidth": 2,
            "linecolor": "white",
            "showbackground": true,
            "ticks": "",
            "zerolinecolor": "white"
           },
           "zaxis": {
            "backgroundcolor": "#E5ECF6",
            "gridcolor": "white",
            "gridwidth": 2,
            "linecolor": "white",
            "showbackground": true,
            "ticks": "",
            "zerolinecolor": "white"
           }
          },
          "shapedefaults": {
           "line": {
            "color": "#2a3f5f"
           }
          },
          "ternary": {
           "aaxis": {
            "gridcolor": "white",
            "linecolor": "white",
            "ticks": ""
           },
           "baxis": {
            "gridcolor": "white",
            "linecolor": "white",
            "ticks": ""
           },
           "bgcolor": "#E5ECF6",
           "caxis": {
            "gridcolor": "white",
            "linecolor": "white",
            "ticks": ""
           }
          },
          "title": {
           "x": 0.05
          },
          "xaxis": {
           "automargin": true,
           "gridcolor": "white",
           "linecolor": "white",
           "ticks": "",
           "title": {
            "standoff": 15
           },
           "zerolinecolor": "white",
           "zerolinewidth": 2
          },
          "yaxis": {
           "automargin": true,
           "gridcolor": "white",
           "linecolor": "white",
           "ticks": "",
           "title": {
            "standoff": 15
           },
           "zerolinecolor": "white",
           "zerolinewidth": 2
          }
         }
        },
        "title": {
         "text": "Fig.1: Overall Rank Of Gender Equality"
        }
       }
      }
     },
     "metadata": {},
     "output_type": "display_data"
    }
   ],
   "source": [
    "fig1=px.choropleth(df,\n",
    "              locations=df.ISO3,\n",
    "              color='Overall Rank',\n",
    "              projection='kavrayskiy7',\n",
    "              scope='world',\n",
    "              title='Fig.1: Overall Rank Of Gender Equality')\n",
    "\n",
    "fig1.show()"
   ]
  },
  {
   "cell_type": "markdown",
   "metadata": {},
   "source": [
    "As shown in the graph, Africa countries have lower gender equality than other areas. Asia countries such as India, Japan, South Korea have bad performances too. On the other hand, europe countries and Americas generally have better performance on gender equality.  "
   ]
  },
  {
   "cell_type": "code",
   "execution_count": 11,
   "metadata": {},
   "outputs": [
    {
     "data": {
      "application/vnd.plotly.v1+json": {
       "config": {
        "plotlyServerURL": "https://plot.ly"
       },
       "data": [
        {
         "coloraxis": "coloraxis",
         "geo": "geo",
         "hovertemplate": "ISO3=%{location}<br>Economic Participation and Opportunity Rank=%{z}<extra></extra>",
         "locations": [
          "ISL",
          "FIN",
          "NOR",
          "SWE",
          "PHL",
          "IRL",
          "NZL",
          "DNK",
          "CHE",
          "NIC",
          "BEL",
          "LVA",
          "NLD",
          "DEU",
          "CUB",
          "LSO",
          "ZAF",
          "GBR",
          "AUT",
          "CAN",
          "LUX",
          "BDI",
          "USA",
          "AUS",
          "ECU",
          "MOZ",
          "BOL",
          "LTU",
          "BRB",
          "ESP",
          "CRI",
          "KAZ",
          "MNG",
          "ARG",
          "COL",
          "TTO",
          "PAN",
          "SVN",
          "MWI",
          "BHS",
          "CPV",
          "SRB",
          "BGR",
          "NAM",
          "FRA",
          "UGA",
          "JAM",
          "GUY",
          "HRV",
          "VEN",
          "PRT",
          "MDA",
          "ISR",
          "POL",
          "LKA",
          "MDG",
          "MKD",
          "SGP",
          "EST",
          "LAO",
          "RUS",
          "BRA",
          "KGZ",
          "UKR",
          "THA",
          "TZA",
          "SEN",
          "MEX",
          "CHN",
          "ROU",
          "ITA",
          "DOM",
          "VNM",
          "SVK",
          "BGD",
          "GHA",
          "URY",
          "KEN",
          "CYP",
          "PER",
          "GRC",
          "HND",
          "CZE",
          "MLT",
          "BWA",
          "GEO",
          "HUN",
          "BRN",
          "PRY",
          "TJK",
          "CHL",
          "AGO",
          "BTN",
          "ARM",
          "IDN",
          "SLV",
          "MDV",
          "MUS",
          "AZE",
          "CMR",
          "IND",
          "MYS",
          "BFA",
          "KHM",
          "JPN",
          "NGA",
          "BLZ",
          "ALB",
          "ARE",
          "SUR",
          "KOR",
          "BHR",
          "ZMB",
          "GTM",
          "QAT",
          "KWT",
          "FJI",
          "ETH",
          "JOR",
          "TUR",
          "NPL",
          "OMN",
          "LBN",
          "DZA",
          "EGY",
          "BEN",
          "SAU",
          "MLI",
          "MAR",
          "IRN",
          "CIV",
          "MRT",
          "SYR",
          "TCD",
          "PAK",
          "YEM"
         ],
         "name": "",
         "type": "choropleth",
         "z": [
          22,
          19,
          1,
          14,
          16,
          29,
          15,
          25,
          23,
          91,
          34,
          17,
          26,
          46,
          65,
          18,
          78,
          35,
          69,
          9,
          7,
          3,
          6,
          13,
          90,
          11,
          57,
          21,
          10,
          76,
          98,
          20,
          2,
          101,
          39,
          47,
          45,
          43,
          4,
          5,
          96,
          59,
          49,
          53,
          67,
          37,
          36,
          102,
          61,
          89,
          66,
          32,
          56,
          73,
          109,
          51,
          71,
          12,
          41,
          8,
          42,
          74,
          60,
          30,
          50,
          70,
          81,
          111,
          62,
          55,
          97,
          63,
          52,
          86,
          121,
          24,
          58,
          44,
          85,
          88,
          79,
          94,
          95,
          108,
          48,
          64,
          68,
          33,
          83,
          38,
          112,
          92,
          27,
          82,
          103,
          114,
          99,
          105,
          72,
          40,
          124,
          100,
          28,
          77,
          104,
          54,
          80,
          87,
          122,
          119,
          118,
          117,
          84,
          113,
          106,
          115,
          120,
          93,
          128,
          127,
          116,
          123,
          126,
          133,
          125,
          31,
          134,
          107,
          129,
          130,
          110,
          131,
          136,
          75,
          135,
          132
         ]
        }
       ],
       "layout": {
        "coloraxis": {
         "colorbar": {
          "title": {
           "text": "Economic Participation and Opportunity Rank"
          }
         },
         "colorscale": [
          [
           0,
           "#0d0887"
          ],
          [
           0.1111111111111111,
           "#46039f"
          ],
          [
           0.2222222222222222,
           "#7201a8"
          ],
          [
           0.3333333333333333,
           "#9c179e"
          ],
          [
           0.4444444444444444,
           "#bd3786"
          ],
          [
           0.5555555555555556,
           "#d8576b"
          ],
          [
           0.6666666666666666,
           "#ed7953"
          ],
          [
           0.7777777777777778,
           "#fb9f3a"
          ],
          [
           0.8888888888888888,
           "#fdca26"
          ],
          [
           1,
           "#f0f921"
          ]
         ]
        },
        "geo": {
         "center": {},
         "domain": {
          "x": [
           0,
           1
          ],
          "y": [
           0,
           1
          ]
         },
         "projection": {
          "type": "kavrayskiy7"
         },
         "scope": "world"
        },
        "legend": {
         "tracegroupgap": 0
        },
        "template": {
         "data": {
          "bar": [
           {
            "error_x": {
             "color": "#2a3f5f"
            },
            "error_y": {
             "color": "#2a3f5f"
            },
            "marker": {
             "line": {
              "color": "#E5ECF6",
              "width": 0.5
             },
             "pattern": {
              "fillmode": "overlay",
              "size": 10,
              "solidity": 0.2
             }
            },
            "type": "bar"
           }
          ],
          "barpolar": [
           {
            "marker": {
             "line": {
              "color": "#E5ECF6",
              "width": 0.5
             },
             "pattern": {
              "fillmode": "overlay",
              "size": 10,
              "solidity": 0.2
             }
            },
            "type": "barpolar"
           }
          ],
          "carpet": [
           {
            "aaxis": {
             "endlinecolor": "#2a3f5f",
             "gridcolor": "white",
             "linecolor": "white",
             "minorgridcolor": "white",
             "startlinecolor": "#2a3f5f"
            },
            "baxis": {
             "endlinecolor": "#2a3f5f",
             "gridcolor": "white",
             "linecolor": "white",
             "minorgridcolor": "white",
             "startlinecolor": "#2a3f5f"
            },
            "type": "carpet"
           }
          ],
          "choropleth": [
           {
            "colorbar": {
             "outlinewidth": 0,
             "ticks": ""
            },
            "type": "choropleth"
           }
          ],
          "contour": [
           {
            "colorbar": {
             "outlinewidth": 0,
             "ticks": ""
            },
            "colorscale": [
             [
              0,
              "#0d0887"
             ],
             [
              0.1111111111111111,
              "#46039f"
             ],
             [
              0.2222222222222222,
              "#7201a8"
             ],
             [
              0.3333333333333333,
              "#9c179e"
             ],
             [
              0.4444444444444444,
              "#bd3786"
             ],
             [
              0.5555555555555556,
              "#d8576b"
             ],
             [
              0.6666666666666666,
              "#ed7953"
             ],
             [
              0.7777777777777778,
              "#fb9f3a"
             ],
             [
              0.8888888888888888,
              "#fdca26"
             ],
             [
              1,
              "#f0f921"
             ]
            ],
            "type": "contour"
           }
          ],
          "contourcarpet": [
           {
            "colorbar": {
             "outlinewidth": 0,
             "ticks": ""
            },
            "type": "contourcarpet"
           }
          ],
          "heatmap": [
           {
            "colorbar": {
             "outlinewidth": 0,
             "ticks": ""
            },
            "colorscale": [
             [
              0,
              "#0d0887"
             ],
             [
              0.1111111111111111,
              "#46039f"
             ],
             [
              0.2222222222222222,
              "#7201a8"
             ],
             [
              0.3333333333333333,
              "#9c179e"
             ],
             [
              0.4444444444444444,
              "#bd3786"
             ],
             [
              0.5555555555555556,
              "#d8576b"
             ],
             [
              0.6666666666666666,
              "#ed7953"
             ],
             [
              0.7777777777777778,
              "#fb9f3a"
             ],
             [
              0.8888888888888888,
              "#fdca26"
             ],
             [
              1,
              "#f0f921"
             ]
            ],
            "type": "heatmap"
           }
          ],
          "heatmapgl": [
           {
            "colorbar": {
             "outlinewidth": 0,
             "ticks": ""
            },
            "colorscale": [
             [
              0,
              "#0d0887"
             ],
             [
              0.1111111111111111,
              "#46039f"
             ],
             [
              0.2222222222222222,
              "#7201a8"
             ],
             [
              0.3333333333333333,
              "#9c179e"
             ],
             [
              0.4444444444444444,
              "#bd3786"
             ],
             [
              0.5555555555555556,
              "#d8576b"
             ],
             [
              0.6666666666666666,
              "#ed7953"
             ],
             [
              0.7777777777777778,
              "#fb9f3a"
             ],
             [
              0.8888888888888888,
              "#fdca26"
             ],
             [
              1,
              "#f0f921"
             ]
            ],
            "type": "heatmapgl"
           }
          ],
          "histogram": [
           {
            "marker": {
             "pattern": {
              "fillmode": "overlay",
              "size": 10,
              "solidity": 0.2
             }
            },
            "type": "histogram"
           }
          ],
          "histogram2d": [
           {
            "colorbar": {
             "outlinewidth": 0,
             "ticks": ""
            },
            "colorscale": [
             [
              0,
              "#0d0887"
             ],
             [
              0.1111111111111111,
              "#46039f"
             ],
             [
              0.2222222222222222,
              "#7201a8"
             ],
             [
              0.3333333333333333,
              "#9c179e"
             ],
             [
              0.4444444444444444,
              "#bd3786"
             ],
             [
              0.5555555555555556,
              "#d8576b"
             ],
             [
              0.6666666666666666,
              "#ed7953"
             ],
             [
              0.7777777777777778,
              "#fb9f3a"
             ],
             [
              0.8888888888888888,
              "#fdca26"
             ],
             [
              1,
              "#f0f921"
             ]
            ],
            "type": "histogram2d"
           }
          ],
          "histogram2dcontour": [
           {
            "colorbar": {
             "outlinewidth": 0,
             "ticks": ""
            },
            "colorscale": [
             [
              0,
              "#0d0887"
             ],
             [
              0.1111111111111111,
              "#46039f"
             ],
             [
              0.2222222222222222,
              "#7201a8"
             ],
             [
              0.3333333333333333,
              "#9c179e"
             ],
             [
              0.4444444444444444,
              "#bd3786"
             ],
             [
              0.5555555555555556,
              "#d8576b"
             ],
             [
              0.6666666666666666,
              "#ed7953"
             ],
             [
              0.7777777777777778,
              "#fb9f3a"
             ],
             [
              0.8888888888888888,
              "#fdca26"
             ],
             [
              1,
              "#f0f921"
             ]
            ],
            "type": "histogram2dcontour"
           }
          ],
          "mesh3d": [
           {
            "colorbar": {
             "outlinewidth": 0,
             "ticks": ""
            },
            "type": "mesh3d"
           }
          ],
          "parcoords": [
           {
            "line": {
             "colorbar": {
              "outlinewidth": 0,
              "ticks": ""
             }
            },
            "type": "parcoords"
           }
          ],
          "pie": [
           {
            "automargin": true,
            "type": "pie"
           }
          ],
          "scatter": [
           {
            "fillpattern": {
             "fillmode": "overlay",
             "size": 10,
             "solidity": 0.2
            },
            "type": "scatter"
           }
          ],
          "scatter3d": [
           {
            "line": {
             "colorbar": {
              "outlinewidth": 0,
              "ticks": ""
             }
            },
            "marker": {
             "colorbar": {
              "outlinewidth": 0,
              "ticks": ""
             }
            },
            "type": "scatter3d"
           }
          ],
          "scattercarpet": [
           {
            "marker": {
             "colorbar": {
              "outlinewidth": 0,
              "ticks": ""
             }
            },
            "type": "scattercarpet"
           }
          ],
          "scattergeo": [
           {
            "marker": {
             "colorbar": {
              "outlinewidth": 0,
              "ticks": ""
             }
            },
            "type": "scattergeo"
           }
          ],
          "scattergl": [
           {
            "marker": {
             "colorbar": {
              "outlinewidth": 0,
              "ticks": ""
             }
            },
            "type": "scattergl"
           }
          ],
          "scattermapbox": [
           {
            "marker": {
             "colorbar": {
              "outlinewidth": 0,
              "ticks": ""
             }
            },
            "type": "scattermapbox"
           }
          ],
          "scatterpolar": [
           {
            "marker": {
             "colorbar": {
              "outlinewidth": 0,
              "ticks": ""
             }
            },
            "type": "scatterpolar"
           }
          ],
          "scatterpolargl": [
           {
            "marker": {
             "colorbar": {
              "outlinewidth": 0,
              "ticks": ""
             }
            },
            "type": "scatterpolargl"
           }
          ],
          "scatterternary": [
           {
            "marker": {
             "colorbar": {
              "outlinewidth": 0,
              "ticks": ""
             }
            },
            "type": "scatterternary"
           }
          ],
          "surface": [
           {
            "colorbar": {
             "outlinewidth": 0,
             "ticks": ""
            },
            "colorscale": [
             [
              0,
              "#0d0887"
             ],
             [
              0.1111111111111111,
              "#46039f"
             ],
             [
              0.2222222222222222,
              "#7201a8"
             ],
             [
              0.3333333333333333,
              "#9c179e"
             ],
             [
              0.4444444444444444,
              "#bd3786"
             ],
             [
              0.5555555555555556,
              "#d8576b"
             ],
             [
              0.6666666666666666,
              "#ed7953"
             ],
             [
              0.7777777777777778,
              "#fb9f3a"
             ],
             [
              0.8888888888888888,
              "#fdca26"
             ],
             [
              1,
              "#f0f921"
             ]
            ],
            "type": "surface"
           }
          ],
          "table": [
           {
            "cells": {
             "fill": {
              "color": "#EBF0F8"
             },
             "line": {
              "color": "white"
             }
            },
            "header": {
             "fill": {
              "color": "#C8D4E3"
             },
             "line": {
              "color": "white"
             }
            },
            "type": "table"
           }
          ]
         },
         "layout": {
          "annotationdefaults": {
           "arrowcolor": "#2a3f5f",
           "arrowhead": 0,
           "arrowwidth": 1
          },
          "autotypenumbers": "strict",
          "coloraxis": {
           "colorbar": {
            "outlinewidth": 0,
            "ticks": ""
           }
          },
          "colorscale": {
           "diverging": [
            [
             0,
             "#8e0152"
            ],
            [
             0.1,
             "#c51b7d"
            ],
            [
             0.2,
             "#de77ae"
            ],
            [
             0.3,
             "#f1b6da"
            ],
            [
             0.4,
             "#fde0ef"
            ],
            [
             0.5,
             "#f7f7f7"
            ],
            [
             0.6,
             "#e6f5d0"
            ],
            [
             0.7,
             "#b8e186"
            ],
            [
             0.8,
             "#7fbc41"
            ],
            [
             0.9,
             "#4d9221"
            ],
            [
             1,
             "#276419"
            ]
           ],
           "sequential": [
            [
             0,
             "#0d0887"
            ],
            [
             0.1111111111111111,
             "#46039f"
            ],
            [
             0.2222222222222222,
             "#7201a8"
            ],
            [
             0.3333333333333333,
             "#9c179e"
            ],
            [
             0.4444444444444444,
             "#bd3786"
            ],
            [
             0.5555555555555556,
             "#d8576b"
            ],
            [
             0.6666666666666666,
             "#ed7953"
            ],
            [
             0.7777777777777778,
             "#fb9f3a"
            ],
            [
             0.8888888888888888,
             "#fdca26"
            ],
            [
             1,
             "#f0f921"
            ]
           ],
           "sequentialminus": [
            [
             0,
             "#0d0887"
            ],
            [
             0.1111111111111111,
             "#46039f"
            ],
            [
             0.2222222222222222,
             "#7201a8"
            ],
            [
             0.3333333333333333,
             "#9c179e"
            ],
            [
             0.4444444444444444,
             "#bd3786"
            ],
            [
             0.5555555555555556,
             "#d8576b"
            ],
            [
             0.6666666666666666,
             "#ed7953"
            ],
            [
             0.7777777777777778,
             "#fb9f3a"
            ],
            [
             0.8888888888888888,
             "#fdca26"
            ],
            [
             1,
             "#f0f921"
            ]
           ]
          },
          "colorway": [
           "#636efa",
           "#EF553B",
           "#00cc96",
           "#ab63fa",
           "#FFA15A",
           "#19d3f3",
           "#FF6692",
           "#B6E880",
           "#FF97FF",
           "#FECB52"
          ],
          "font": {
           "color": "#2a3f5f"
          },
          "geo": {
           "bgcolor": "white",
           "lakecolor": "white",
           "landcolor": "#E5ECF6",
           "showlakes": true,
           "showland": true,
           "subunitcolor": "white"
          },
          "hoverlabel": {
           "align": "left"
          },
          "hovermode": "closest",
          "mapbox": {
           "style": "light"
          },
          "paper_bgcolor": "white",
          "plot_bgcolor": "#E5ECF6",
          "polar": {
           "angularaxis": {
            "gridcolor": "white",
            "linecolor": "white",
            "ticks": ""
           },
           "bgcolor": "#E5ECF6",
           "radialaxis": {
            "gridcolor": "white",
            "linecolor": "white",
            "ticks": ""
           }
          },
          "scene": {
           "xaxis": {
            "backgroundcolor": "#E5ECF6",
            "gridcolor": "white",
            "gridwidth": 2,
            "linecolor": "white",
            "showbackground": true,
            "ticks": "",
            "zerolinecolor": "white"
           },
           "yaxis": {
            "backgroundcolor": "#E5ECF6",
            "gridcolor": "white",
            "gridwidth": 2,
            "linecolor": "white",
            "showbackground": true,
            "ticks": "",
            "zerolinecolor": "white"
           },
           "zaxis": {
            "backgroundcolor": "#E5ECF6",
            "gridcolor": "white",
            "gridwidth": 2,
            "linecolor": "white",
            "showbackground": true,
            "ticks": "",
            "zerolinecolor": "white"
           }
          },
          "shapedefaults": {
           "line": {
            "color": "#2a3f5f"
           }
          },
          "ternary": {
           "aaxis": {
            "gridcolor": "white",
            "linecolor": "white",
            "ticks": ""
           },
           "baxis": {
            "gridcolor": "white",
            "linecolor": "white",
            "ticks": ""
           },
           "bgcolor": "#E5ECF6",
           "caxis": {
            "gridcolor": "white",
            "linecolor": "white",
            "ticks": ""
           }
          },
          "title": {
           "x": 0.05
          },
          "xaxis": {
           "automargin": true,
           "gridcolor": "white",
           "linecolor": "white",
           "ticks": "",
           "title": {
            "standoff": 15
           },
           "zerolinecolor": "white",
           "zerolinewidth": 2
          },
          "yaxis": {
           "automargin": true,
           "gridcolor": "white",
           "linecolor": "white",
           "ticks": "",
           "title": {
            "standoff": 15
           },
           "zerolinecolor": "white",
           "zerolinewidth": 2
          }
         }
        },
        "title": {
         "text": "Fig.2: Rank Of Economic Participation and Opportunity"
        }
       }
      }
     },
     "metadata": {},
     "output_type": "display_data"
    }
   ],
   "source": [
    "fig2=px.choropleth(df,\n",
    "              locations=df.ISO3,\n",
    "              color='Economic Participation and Opportunity Rank',\n",
    "              projection='kavrayskiy7',\n",
    "              scope='world',\n",
    "              title='Fig.2: Rank Of Economic Participation and Opportunity')\n",
    "\n",
    "fig2.show()"
   ]
  },
  {
   "cell_type": "markdown",
   "metadata": {},
   "source": [
    "The rank of economic participation and opportunity of every countries are bascially the same as those of gender equality in Fig.1 at first sight, we thus expect the economic participation and opportunity are highly related to the gender gap."
   ]
  },
  {
   "cell_type": "code",
   "execution_count": 12,
   "metadata": {},
   "outputs": [
    {
     "data": {
      "application/vnd.plotly.v1+json": {
       "config": {
        "plotlyServerURL": "https://plot.ly"
       },
       "data": [
        {
         "coloraxis": "coloraxis",
         "geo": "geo",
         "hovertemplate": "ISO3=%{location}<br>Educational Attainment Rank=%{z}<extra></extra>",
         "locations": [
          "ISL",
          "FIN",
          "NOR",
          "SWE",
          "PHL",
          "IRL",
          "NZL",
          "DNK",
          "CHE",
          "NIC",
          "BEL",
          "LVA",
          "NLD",
          "DEU",
          "CUB",
          "LSO",
          "ZAF",
          "GBR",
          "AUT",
          "CAN",
          "LUX",
          "BDI",
          "USA",
          "AUS",
          "ECU",
          "MOZ",
          "BOL",
          "LTU",
          "BRB",
          "ESP",
          "CRI",
          "KAZ",
          "MNG",
          "ARG",
          "COL",
          "TTO",
          "PAN",
          "SVN",
          "MWI",
          "BHS",
          "CPV",
          "SRB",
          "BGR",
          "NAM",
          "FRA",
          "UGA",
          "JAM",
          "GUY",
          "HRV",
          "VEN",
          "PRT",
          "MDA",
          "ISR",
          "POL",
          "LKA",
          "MDG",
          "MKD",
          "SGP",
          "EST",
          "LAO",
          "RUS",
          "BRA",
          "KGZ",
          "UKR",
          "THA",
          "TZA",
          "SEN",
          "MEX",
          "CHN",
          "ROU",
          "ITA",
          "DOM",
          "VNM",
          "SVK",
          "BGD",
          "GHA",
          "URY",
          "KEN",
          "CYP",
          "PER",
          "GRC",
          "HND",
          "CZE",
          "MLT",
          "BWA",
          "GEO",
          "HUN",
          "BRN",
          "PRY",
          "TJK",
          "CHL",
          "AGO",
          "BTN",
          "ARM",
          "IDN",
          "SLV",
          "MDV",
          "MUS",
          "AZE",
          "CMR",
          "IND",
          "MYS",
          "BFA",
          "KHM",
          "JPN",
          "NGA",
          "BLZ",
          "ALB",
          "ARE",
          "SUR",
          "KOR",
          "BHR",
          "ZMB",
          "GTM",
          "QAT",
          "KWT",
          "FJI",
          "ETH",
          "JOR",
          "TUR",
          "NPL",
          "OMN",
          "LBN",
          "DZA",
          "EGY",
          "BEN",
          "SAU",
          "MLI",
          "MAR",
          "IRN",
          "CIV",
          "MRT",
          "SYR",
          "TCD",
          "PAK",
          "YEM"
         ],
         "name": "",
         "type": "choropleth",
         "z": [
          1,
          1,
          1,
          38,
          1,
          34,
          1,
          1,
          66,
          28,
          67,
          1,
          44,
          86,
          30,
          1,
          54,
          31,
          1,
          1,
          1,
          114,
          1,
          1,
          52,
          124,
          99,
          60,
          1,
          40,
          1,
          69,
          49,
          42,
          45,
          51,
          43,
          26,
          112,
          1,
          97,
          55,
          64,
          1,
          1,
          123,
          80,
          1,
          47,
          33,
          56,
          74,
          82,
          37,
          48,
          93,
          75,
          105,
          59,
          113,
          36,
          1,
          77,
          27,
          78,
          118,
          125,
          70,
          81,
          50,
          65,
          84,
          95,
          1,
          115,
          111,
          41,
          107,
          83,
          88,
          46,
          35,
          1,
          58,
          1,
          89,
          62,
          76,
          61,
          110,
          32,
          127,
          116,
          29,
          101,
          79,
          1,
          72,
          85,
          122,
          120,
          73,
          128,
          117,
          91,
          126,
          103,
          92,
          1,
          39,
          100,
          71,
          121,
          102,
          53,
          57,
          63,
          131,
          68,
          104,
          130,
          94,
          87,
          106,
          108,
          136,
          90,
          132,
          109,
          98,
          133,
          119,
          96,
          135,
          129,
          134
         ]
        }
       ],
       "layout": {
        "coloraxis": {
         "colorbar": {
          "title": {
           "text": "Educational Attainment Rank"
          }
         },
         "colorscale": [
          [
           0,
           "#0d0887"
          ],
          [
           0.1111111111111111,
           "#46039f"
          ],
          [
           0.2222222222222222,
           "#7201a8"
          ],
          [
           0.3333333333333333,
           "#9c179e"
          ],
          [
           0.4444444444444444,
           "#bd3786"
          ],
          [
           0.5555555555555556,
           "#d8576b"
          ],
          [
           0.6666666666666666,
           "#ed7953"
          ],
          [
           0.7777777777777778,
           "#fb9f3a"
          ],
          [
           0.8888888888888888,
           "#fdca26"
          ],
          [
           1,
           "#f0f921"
          ]
         ]
        },
        "geo": {
         "center": {},
         "domain": {
          "x": [
           0,
           1
          ],
          "y": [
           0,
           1
          ]
         },
         "projection": {
          "type": "kavrayskiy7"
         },
         "scope": "world"
        },
        "legend": {
         "tracegroupgap": 0
        },
        "template": {
         "data": {
          "bar": [
           {
            "error_x": {
             "color": "#2a3f5f"
            },
            "error_y": {
             "color": "#2a3f5f"
            },
            "marker": {
             "line": {
              "color": "#E5ECF6",
              "width": 0.5
             },
             "pattern": {
              "fillmode": "overlay",
              "size": 10,
              "solidity": 0.2
             }
            },
            "type": "bar"
           }
          ],
          "barpolar": [
           {
            "marker": {
             "line": {
              "color": "#E5ECF6",
              "width": 0.5
             },
             "pattern": {
              "fillmode": "overlay",
              "size": 10,
              "solidity": 0.2
             }
            },
            "type": "barpolar"
           }
          ],
          "carpet": [
           {
            "aaxis": {
             "endlinecolor": "#2a3f5f",
             "gridcolor": "white",
             "linecolor": "white",
             "minorgridcolor": "white",
             "startlinecolor": "#2a3f5f"
            },
            "baxis": {
             "endlinecolor": "#2a3f5f",
             "gridcolor": "white",
             "linecolor": "white",
             "minorgridcolor": "white",
             "startlinecolor": "#2a3f5f"
            },
            "type": "carpet"
           }
          ],
          "choropleth": [
           {
            "colorbar": {
             "outlinewidth": 0,
             "ticks": ""
            },
            "type": "choropleth"
           }
          ],
          "contour": [
           {
            "colorbar": {
             "outlinewidth": 0,
             "ticks": ""
            },
            "colorscale": [
             [
              0,
              "#0d0887"
             ],
             [
              0.1111111111111111,
              "#46039f"
             ],
             [
              0.2222222222222222,
              "#7201a8"
             ],
             [
              0.3333333333333333,
              "#9c179e"
             ],
             [
              0.4444444444444444,
              "#bd3786"
             ],
             [
              0.5555555555555556,
              "#d8576b"
             ],
             [
              0.6666666666666666,
              "#ed7953"
             ],
             [
              0.7777777777777778,
              "#fb9f3a"
             ],
             [
              0.8888888888888888,
              "#fdca26"
             ],
             [
              1,
              "#f0f921"
             ]
            ],
            "type": "contour"
           }
          ],
          "contourcarpet": [
           {
            "colorbar": {
             "outlinewidth": 0,
             "ticks": ""
            },
            "type": "contourcarpet"
           }
          ],
          "heatmap": [
           {
            "colorbar": {
             "outlinewidth": 0,
             "ticks": ""
            },
            "colorscale": [
             [
              0,
              "#0d0887"
             ],
             [
              0.1111111111111111,
              "#46039f"
             ],
             [
              0.2222222222222222,
              "#7201a8"
             ],
             [
              0.3333333333333333,
              "#9c179e"
             ],
             [
              0.4444444444444444,
              "#bd3786"
             ],
             [
              0.5555555555555556,
              "#d8576b"
             ],
             [
              0.6666666666666666,
              "#ed7953"
             ],
             [
              0.7777777777777778,
              "#fb9f3a"
             ],
             [
              0.8888888888888888,
              "#fdca26"
             ],
             [
              1,
              "#f0f921"
             ]
            ],
            "type": "heatmap"
           }
          ],
          "heatmapgl": [
           {
            "colorbar": {
             "outlinewidth": 0,
             "ticks": ""
            },
            "colorscale": [
             [
              0,
              "#0d0887"
             ],
             [
              0.1111111111111111,
              "#46039f"
             ],
             [
              0.2222222222222222,
              "#7201a8"
             ],
             [
              0.3333333333333333,
              "#9c179e"
             ],
             [
              0.4444444444444444,
              "#bd3786"
             ],
             [
              0.5555555555555556,
              "#d8576b"
             ],
             [
              0.6666666666666666,
              "#ed7953"
             ],
             [
              0.7777777777777778,
              "#fb9f3a"
             ],
             [
              0.8888888888888888,
              "#fdca26"
             ],
             [
              1,
              "#f0f921"
             ]
            ],
            "type": "heatmapgl"
           }
          ],
          "histogram": [
           {
            "marker": {
             "pattern": {
              "fillmode": "overlay",
              "size": 10,
              "solidity": 0.2
             }
            },
            "type": "histogram"
           }
          ],
          "histogram2d": [
           {
            "colorbar": {
             "outlinewidth": 0,
             "ticks": ""
            },
            "colorscale": [
             [
              0,
              "#0d0887"
             ],
             [
              0.1111111111111111,
              "#46039f"
             ],
             [
              0.2222222222222222,
              "#7201a8"
             ],
             [
              0.3333333333333333,
              "#9c179e"
             ],
             [
              0.4444444444444444,
              "#bd3786"
             ],
             [
              0.5555555555555556,
              "#d8576b"
             ],
             [
              0.6666666666666666,
              "#ed7953"
             ],
             [
              0.7777777777777778,
              "#fb9f3a"
             ],
             [
              0.8888888888888888,
              "#fdca26"
             ],
             [
              1,
              "#f0f921"
             ]
            ],
            "type": "histogram2d"
           }
          ],
          "histogram2dcontour": [
           {
            "colorbar": {
             "outlinewidth": 0,
             "ticks": ""
            },
            "colorscale": [
             [
              0,
              "#0d0887"
             ],
             [
              0.1111111111111111,
              "#46039f"
             ],
             [
              0.2222222222222222,
              "#7201a8"
             ],
             [
              0.3333333333333333,
              "#9c179e"
             ],
             [
              0.4444444444444444,
              "#bd3786"
             ],
             [
              0.5555555555555556,
              "#d8576b"
             ],
             [
              0.6666666666666666,
              "#ed7953"
             ],
             [
              0.7777777777777778,
              "#fb9f3a"
             ],
             [
              0.8888888888888888,
              "#fdca26"
             ],
             [
              1,
              "#f0f921"
             ]
            ],
            "type": "histogram2dcontour"
           }
          ],
          "mesh3d": [
           {
            "colorbar": {
             "outlinewidth": 0,
             "ticks": ""
            },
            "type": "mesh3d"
           }
          ],
          "parcoords": [
           {
            "line": {
             "colorbar": {
              "outlinewidth": 0,
              "ticks": ""
             }
            },
            "type": "parcoords"
           }
          ],
          "pie": [
           {
            "automargin": true,
            "type": "pie"
           }
          ],
          "scatter": [
           {
            "fillpattern": {
             "fillmode": "overlay",
             "size": 10,
             "solidity": 0.2
            },
            "type": "scatter"
           }
          ],
          "scatter3d": [
           {
            "line": {
             "colorbar": {
              "outlinewidth": 0,
              "ticks": ""
             }
            },
            "marker": {
             "colorbar": {
              "outlinewidth": 0,
              "ticks": ""
             }
            },
            "type": "scatter3d"
           }
          ],
          "scattercarpet": [
           {
            "marker": {
             "colorbar": {
              "outlinewidth": 0,
              "ticks": ""
             }
            },
            "type": "scattercarpet"
           }
          ],
          "scattergeo": [
           {
            "marker": {
             "colorbar": {
              "outlinewidth": 0,
              "ticks": ""
             }
            },
            "type": "scattergeo"
           }
          ],
          "scattergl": [
           {
            "marker": {
             "colorbar": {
              "outlinewidth": 0,
              "ticks": ""
             }
            },
            "type": "scattergl"
           }
          ],
          "scattermapbox": [
           {
            "marker": {
             "colorbar": {
              "outlinewidth": 0,
              "ticks": ""
             }
            },
            "type": "scattermapbox"
           }
          ],
          "scatterpolar": [
           {
            "marker": {
             "colorbar": {
              "outlinewidth": 0,
              "ticks": ""
             }
            },
            "type": "scatterpolar"
           }
          ],
          "scatterpolargl": [
           {
            "marker": {
             "colorbar": {
              "outlinewidth": 0,
              "ticks": ""
             }
            },
            "type": "scatterpolargl"
           }
          ],
          "scatterternary": [
           {
            "marker": {
             "colorbar": {
              "outlinewidth": 0,
              "ticks": ""
             }
            },
            "type": "scatterternary"
           }
          ],
          "surface": [
           {
            "colorbar": {
             "outlinewidth": 0,
             "ticks": ""
            },
            "colorscale": [
             [
              0,
              "#0d0887"
             ],
             [
              0.1111111111111111,
              "#46039f"
             ],
             [
              0.2222222222222222,
              "#7201a8"
             ],
             [
              0.3333333333333333,
              "#9c179e"
             ],
             [
              0.4444444444444444,
              "#bd3786"
             ],
             [
              0.5555555555555556,
              "#d8576b"
             ],
             [
              0.6666666666666666,
              "#ed7953"
             ],
             [
              0.7777777777777778,
              "#fb9f3a"
             ],
             [
              0.8888888888888888,
              "#fdca26"
             ],
             [
              1,
              "#f0f921"
             ]
            ],
            "type": "surface"
           }
          ],
          "table": [
           {
            "cells": {
             "fill": {
              "color": "#EBF0F8"
             },
             "line": {
              "color": "white"
             }
            },
            "header": {
             "fill": {
              "color": "#C8D4E3"
             },
             "line": {
              "color": "white"
             }
            },
            "type": "table"
           }
          ]
         },
         "layout": {
          "annotationdefaults": {
           "arrowcolor": "#2a3f5f",
           "arrowhead": 0,
           "arrowwidth": 1
          },
          "autotypenumbers": "strict",
          "coloraxis": {
           "colorbar": {
            "outlinewidth": 0,
            "ticks": ""
           }
          },
          "colorscale": {
           "diverging": [
            [
             0,
             "#8e0152"
            ],
            [
             0.1,
             "#c51b7d"
            ],
            [
             0.2,
             "#de77ae"
            ],
            [
             0.3,
             "#f1b6da"
            ],
            [
             0.4,
             "#fde0ef"
            ],
            [
             0.5,
             "#f7f7f7"
            ],
            [
             0.6,
             "#e6f5d0"
            ],
            [
             0.7,
             "#b8e186"
            ],
            [
             0.8,
             "#7fbc41"
            ],
            [
             0.9,
             "#4d9221"
            ],
            [
             1,
             "#276419"
            ]
           ],
           "sequential": [
            [
             0,
             "#0d0887"
            ],
            [
             0.1111111111111111,
             "#46039f"
            ],
            [
             0.2222222222222222,
             "#7201a8"
            ],
            [
             0.3333333333333333,
             "#9c179e"
            ],
            [
             0.4444444444444444,
             "#bd3786"
            ],
            [
             0.5555555555555556,
             "#d8576b"
            ],
            [
             0.6666666666666666,
             "#ed7953"
            ],
            [
             0.7777777777777778,
             "#fb9f3a"
            ],
            [
             0.8888888888888888,
             "#fdca26"
            ],
            [
             1,
             "#f0f921"
            ]
           ],
           "sequentialminus": [
            [
             0,
             "#0d0887"
            ],
            [
             0.1111111111111111,
             "#46039f"
            ],
            [
             0.2222222222222222,
             "#7201a8"
            ],
            [
             0.3333333333333333,
             "#9c179e"
            ],
            [
             0.4444444444444444,
             "#bd3786"
            ],
            [
             0.5555555555555556,
             "#d8576b"
            ],
            [
             0.6666666666666666,
             "#ed7953"
            ],
            [
             0.7777777777777778,
             "#fb9f3a"
            ],
            [
             0.8888888888888888,
             "#fdca26"
            ],
            [
             1,
             "#f0f921"
            ]
           ]
          },
          "colorway": [
           "#636efa",
           "#EF553B",
           "#00cc96",
           "#ab63fa",
           "#FFA15A",
           "#19d3f3",
           "#FF6692",
           "#B6E880",
           "#FF97FF",
           "#FECB52"
          ],
          "font": {
           "color": "#2a3f5f"
          },
          "geo": {
           "bgcolor": "white",
           "lakecolor": "white",
           "landcolor": "#E5ECF6",
           "showlakes": true,
           "showland": true,
           "subunitcolor": "white"
          },
          "hoverlabel": {
           "align": "left"
          },
          "hovermode": "closest",
          "mapbox": {
           "style": "light"
          },
          "paper_bgcolor": "white",
          "plot_bgcolor": "#E5ECF6",
          "polar": {
           "angularaxis": {
            "gridcolor": "white",
            "linecolor": "white",
            "ticks": ""
           },
           "bgcolor": "#E5ECF6",
           "radialaxis": {
            "gridcolor": "white",
            "linecolor": "white",
            "ticks": ""
           }
          },
          "scene": {
           "xaxis": {
            "backgroundcolor": "#E5ECF6",
            "gridcolor": "white",
            "gridwidth": 2,
            "linecolor": "white",
            "showbackground": true,
            "ticks": "",
            "zerolinecolor": "white"
           },
           "yaxis": {
            "backgroundcolor": "#E5ECF6",
            "gridcolor": "white",
            "gridwidth": 2,
            "linecolor": "white",
            "showbackground": true,
            "ticks": "",
            "zerolinecolor": "white"
           },
           "zaxis": {
            "backgroundcolor": "#E5ECF6",
            "gridcolor": "white",
            "gridwidth": 2,
            "linecolor": "white",
            "showbackground": true,
            "ticks": "",
            "zerolinecolor": "white"
           }
          },
          "shapedefaults": {
           "line": {
            "color": "#2a3f5f"
           }
          },
          "ternary": {
           "aaxis": {
            "gridcolor": "white",
            "linecolor": "white",
            "ticks": ""
           },
           "baxis": {
            "gridcolor": "white",
            "linecolor": "white",
            "ticks": ""
           },
           "bgcolor": "#E5ECF6",
           "caxis": {
            "gridcolor": "white",
            "linecolor": "white",
            "ticks": ""
           }
          },
          "title": {
           "x": 0.05
          },
          "xaxis": {
           "automargin": true,
           "gridcolor": "white",
           "linecolor": "white",
           "ticks": "",
           "title": {
            "standoff": 15
           },
           "zerolinecolor": "white",
           "zerolinewidth": 2
          },
          "yaxis": {
           "automargin": true,
           "gridcolor": "white",
           "linecolor": "white",
           "ticks": "",
           "title": {
            "standoff": 15
           },
           "zerolinecolor": "white",
           "zerolinewidth": 2
          }
         }
        },
        "title": {
         "text": "Fig.3: Rank Of Educational Attainment"
        }
       }
      }
     },
     "metadata": {},
     "output_type": "display_data"
    }
   ],
   "source": [
    "fig3=px.choropleth(df,\n",
    "              locations=df.ISO3,\n",
    "              color='Educational Attainment Rank',\n",
    "              projection='kavrayskiy7',\n",
    "              scope='world',\n",
    "              title='Fig.3: Rank Of Educational Attainment')\n",
    "\n",
    "fig3.show()"
   ]
  },
  {
   "cell_type": "code",
   "execution_count": 13,
   "metadata": {},
   "outputs": [
    {
     "data": {
      "application/vnd.plotly.v1+json": {
       "config": {
        "plotlyServerURL": "https://plot.ly"
       },
       "data": [
        {
         "coloraxis": "coloraxis",
         "geo": "geo",
         "hovertemplate": "ISO3=%{location}<br>Health and Survival Rank=%{z}<extra></extra>",
         "locations": [
          "ISL",
          "FIN",
          "NOR",
          "SWE",
          "PHL",
          "IRL",
          "NZL",
          "DNK",
          "CHE",
          "NIC",
          "BEL",
          "LVA",
          "NLD",
          "DEU",
          "CUB",
          "LSO",
          "ZAF",
          "GBR",
          "AUT",
          "CAN",
          "LUX",
          "BDI",
          "USA",
          "AUS",
          "ECU",
          "MOZ",
          "BOL",
          "LTU",
          "BRB",
          "ESP",
          "CRI",
          "KAZ",
          "MNG",
          "ARG",
          "COL",
          "TTO",
          "PAN",
          "SVN",
          "MWI",
          "BHS",
          "CPV",
          "SRB",
          "BGR",
          "NAM",
          "FRA",
          "UGA",
          "JAM",
          "GUY",
          "HRV",
          "VEN",
          "PRT",
          "MDA",
          "ISR",
          "POL",
          "LKA",
          "MDG",
          "MKD",
          "SGP",
          "EST",
          "LAO",
          "RUS",
          "BRA",
          "KGZ",
          "UKR",
          "THA",
          "TZA",
          "SEN",
          "MEX",
          "CHN",
          "ROU",
          "ITA",
          "DOM",
          "VNM",
          "SVK",
          "BGD",
          "GHA",
          "URY",
          "KEN",
          "CYP",
          "PER",
          "GRC",
          "HND",
          "CZE",
          "MLT",
          "BWA",
          "GEO",
          "HUN",
          "BRN",
          "PRY",
          "TJK",
          "CHL",
          "AGO",
          "BTN",
          "ARM",
          "IDN",
          "SLV",
          "MDV",
          "MUS",
          "AZE",
          "CMR",
          "IND",
          "MYS",
          "BFA",
          "KHM",
          "JPN",
          "NGA",
          "BLZ",
          "ALB",
          "ARE",
          "SUR",
          "KOR",
          "BHR",
          "ZMB",
          "GTM",
          "QAT",
          "KWT",
          "FJI",
          "ETH",
          "JOR",
          "TUR",
          "NPL",
          "OMN",
          "LBN",
          "DZA",
          "EGY",
          "BEN",
          "SAU",
          "MLI",
          "MAR",
          "IRN",
          "CIV",
          "MRT",
          "SYR",
          "TCD",
          "PAK",
          "YEM"
         ],
         "name": "",
         "type": "choropleth",
         "z": [
          97,
          1,
          93,
          69,
          1,
          65,
          93,
          64,
          72,
          55,
          47,
          1,
          93,
          49,
          63,
          1,
          102,
          92,
          47,
          49,
          85,
          99,
          33,
          69,
          55,
          112,
          84,
          34,
          1,
          75,
          62,
          1,
          1,
          1,
          34,
          130,
          61,
          75,
          101,
          1,
          1,
          111,
          34,
          105,
          1,
          1,
          1,
          45,
          34,
          1,
          83,
          34,
          93,
          34,
          1,
          74,
          128,
          85,
          34,
          106,
          34,
          1,
          75,
          75,
          1,
          112,
          71,
          1,
          133,
          34,
          72,
          89,
          132,
          1,
          124,
          104,
          1,
          102,
          91,
          109,
          65,
          52,
          46,
          65,
          127,
          126,
          34,
          109,
          55,
          123,
          1,
          1,
          82,
          131,
          107,
          1,
          112,
          1,
          136,
          112,
          135,
          75,
          99,
          1,
          34,
          122,
          1,
          134,
          112,
          1,
          75,
          112,
          98,
          1,
          129,
          112,
          1,
          68,
          90,
          59,
          112,
          59,
          1,
          108,
          51,
          112,
          52,
          54,
          88,
          87,
          1,
          1,
          58,
          112,
          124,
          81
         ]
        }
       ],
       "layout": {
        "coloraxis": {
         "colorbar": {
          "title": {
           "text": "Health and Survival Rank"
          }
         },
         "colorscale": [
          [
           0,
           "#0d0887"
          ],
          [
           0.1111111111111111,
           "#46039f"
          ],
          [
           0.2222222222222222,
           "#7201a8"
          ],
          [
           0.3333333333333333,
           "#9c179e"
          ],
          [
           0.4444444444444444,
           "#bd3786"
          ],
          [
           0.5555555555555556,
           "#d8576b"
          ],
          [
           0.6666666666666666,
           "#ed7953"
          ],
          [
           0.7777777777777778,
           "#fb9f3a"
          ],
          [
           0.8888888888888888,
           "#fdca26"
          ],
          [
           1,
           "#f0f921"
          ]
         ]
        },
        "geo": {
         "center": {},
         "domain": {
          "x": [
           0,
           1
          ],
          "y": [
           0,
           1
          ]
         },
         "projection": {
          "type": "kavrayskiy7"
         },
         "scope": "world"
        },
        "legend": {
         "tracegroupgap": 0
        },
        "template": {
         "data": {
          "bar": [
           {
            "error_x": {
             "color": "#2a3f5f"
            },
            "error_y": {
             "color": "#2a3f5f"
            },
            "marker": {
             "line": {
              "color": "#E5ECF6",
              "width": 0.5
             },
             "pattern": {
              "fillmode": "overlay",
              "size": 10,
              "solidity": 0.2
             }
            },
            "type": "bar"
           }
          ],
          "barpolar": [
           {
            "marker": {
             "line": {
              "color": "#E5ECF6",
              "width": 0.5
             },
             "pattern": {
              "fillmode": "overlay",
              "size": 10,
              "solidity": 0.2
             }
            },
            "type": "barpolar"
           }
          ],
          "carpet": [
           {
            "aaxis": {
             "endlinecolor": "#2a3f5f",
             "gridcolor": "white",
             "linecolor": "white",
             "minorgridcolor": "white",
             "startlinecolor": "#2a3f5f"
            },
            "baxis": {
             "endlinecolor": "#2a3f5f",
             "gridcolor": "white",
             "linecolor": "white",
             "minorgridcolor": "white",
             "startlinecolor": "#2a3f5f"
            },
            "type": "carpet"
           }
          ],
          "choropleth": [
           {
            "colorbar": {
             "outlinewidth": 0,
             "ticks": ""
            },
            "type": "choropleth"
           }
          ],
          "contour": [
           {
            "colorbar": {
             "outlinewidth": 0,
             "ticks": ""
            },
            "colorscale": [
             [
              0,
              "#0d0887"
             ],
             [
              0.1111111111111111,
              "#46039f"
             ],
             [
              0.2222222222222222,
              "#7201a8"
             ],
             [
              0.3333333333333333,
              "#9c179e"
             ],
             [
              0.4444444444444444,
              "#bd3786"
             ],
             [
              0.5555555555555556,
              "#d8576b"
             ],
             [
              0.6666666666666666,
              "#ed7953"
             ],
             [
              0.7777777777777778,
              "#fb9f3a"
             ],
             [
              0.8888888888888888,
              "#fdca26"
             ],
             [
              1,
              "#f0f921"
             ]
            ],
            "type": "contour"
           }
          ],
          "contourcarpet": [
           {
            "colorbar": {
             "outlinewidth": 0,
             "ticks": ""
            },
            "type": "contourcarpet"
           }
          ],
          "heatmap": [
           {
            "colorbar": {
             "outlinewidth": 0,
             "ticks": ""
            },
            "colorscale": [
             [
              0,
              "#0d0887"
             ],
             [
              0.1111111111111111,
              "#46039f"
             ],
             [
              0.2222222222222222,
              "#7201a8"
             ],
             [
              0.3333333333333333,
              "#9c179e"
             ],
             [
              0.4444444444444444,
              "#bd3786"
             ],
             [
              0.5555555555555556,
              "#d8576b"
             ],
             [
              0.6666666666666666,
              "#ed7953"
             ],
             [
              0.7777777777777778,
              "#fb9f3a"
             ],
             [
              0.8888888888888888,
              "#fdca26"
             ],
             [
              1,
              "#f0f921"
             ]
            ],
            "type": "heatmap"
           }
          ],
          "heatmapgl": [
           {
            "colorbar": {
             "outlinewidth": 0,
             "ticks": ""
            },
            "colorscale": [
             [
              0,
              "#0d0887"
             ],
             [
              0.1111111111111111,
              "#46039f"
             ],
             [
              0.2222222222222222,
              "#7201a8"
             ],
             [
              0.3333333333333333,
              "#9c179e"
             ],
             [
              0.4444444444444444,
              "#bd3786"
             ],
             [
              0.5555555555555556,
              "#d8576b"
             ],
             [
              0.6666666666666666,
              "#ed7953"
             ],
             [
              0.7777777777777778,
              "#fb9f3a"
             ],
             [
              0.8888888888888888,
              "#fdca26"
             ],
             [
              1,
              "#f0f921"
             ]
            ],
            "type": "heatmapgl"
           }
          ],
          "histogram": [
           {
            "marker": {
             "pattern": {
              "fillmode": "overlay",
              "size": 10,
              "solidity": 0.2
             }
            },
            "type": "histogram"
           }
          ],
          "histogram2d": [
           {
            "colorbar": {
             "outlinewidth": 0,
             "ticks": ""
            },
            "colorscale": [
             [
              0,
              "#0d0887"
             ],
             [
              0.1111111111111111,
              "#46039f"
             ],
             [
              0.2222222222222222,
              "#7201a8"
             ],
             [
              0.3333333333333333,
              "#9c179e"
             ],
             [
              0.4444444444444444,
              "#bd3786"
             ],
             [
              0.5555555555555556,
              "#d8576b"
             ],
             [
              0.6666666666666666,
              "#ed7953"
             ],
             [
              0.7777777777777778,
              "#fb9f3a"
             ],
             [
              0.8888888888888888,
              "#fdca26"
             ],
             [
              1,
              "#f0f921"
             ]
            ],
            "type": "histogram2d"
           }
          ],
          "histogram2dcontour": [
           {
            "colorbar": {
             "outlinewidth": 0,
             "ticks": ""
            },
            "colorscale": [
             [
              0,
              "#0d0887"
             ],
             [
              0.1111111111111111,
              "#46039f"
             ],
             [
              0.2222222222222222,
              "#7201a8"
             ],
             [
              0.3333333333333333,
              "#9c179e"
             ],
             [
              0.4444444444444444,
              "#bd3786"
             ],
             [
              0.5555555555555556,
              "#d8576b"
             ],
             [
              0.6666666666666666,
              "#ed7953"
             ],
             [
              0.7777777777777778,
              "#fb9f3a"
             ],
             [
              0.8888888888888888,
              "#fdca26"
             ],
             [
              1,
              "#f0f921"
             ]
            ],
            "type": "histogram2dcontour"
           }
          ],
          "mesh3d": [
           {
            "colorbar": {
             "outlinewidth": 0,
             "ticks": ""
            },
            "type": "mesh3d"
           }
          ],
          "parcoords": [
           {
            "line": {
             "colorbar": {
              "outlinewidth": 0,
              "ticks": ""
             }
            },
            "type": "parcoords"
           }
          ],
          "pie": [
           {
            "automargin": true,
            "type": "pie"
           }
          ],
          "scatter": [
           {
            "fillpattern": {
             "fillmode": "overlay",
             "size": 10,
             "solidity": 0.2
            },
            "type": "scatter"
           }
          ],
          "scatter3d": [
           {
            "line": {
             "colorbar": {
              "outlinewidth": 0,
              "ticks": ""
             }
            },
            "marker": {
             "colorbar": {
              "outlinewidth": 0,
              "ticks": ""
             }
            },
            "type": "scatter3d"
           }
          ],
          "scattercarpet": [
           {
            "marker": {
             "colorbar": {
              "outlinewidth": 0,
              "ticks": ""
             }
            },
            "type": "scattercarpet"
           }
          ],
          "scattergeo": [
           {
            "marker": {
             "colorbar": {
              "outlinewidth": 0,
              "ticks": ""
             }
            },
            "type": "scattergeo"
           }
          ],
          "scattergl": [
           {
            "marker": {
             "colorbar": {
              "outlinewidth": 0,
              "ticks": ""
             }
            },
            "type": "scattergl"
           }
          ],
          "scattermapbox": [
           {
            "marker": {
             "colorbar": {
              "outlinewidth": 0,
              "ticks": ""
             }
            },
            "type": "scattermapbox"
           }
          ],
          "scatterpolar": [
           {
            "marker": {
             "colorbar": {
              "outlinewidth": 0,
              "ticks": ""
             }
            },
            "type": "scatterpolar"
           }
          ],
          "scatterpolargl": [
           {
            "marker": {
             "colorbar": {
              "outlinewidth": 0,
              "ticks": ""
             }
            },
            "type": "scatterpolargl"
           }
          ],
          "scatterternary": [
           {
            "marker": {
             "colorbar": {
              "outlinewidth": 0,
              "ticks": ""
             }
            },
            "type": "scatterternary"
           }
          ],
          "surface": [
           {
            "colorbar": {
             "outlinewidth": 0,
             "ticks": ""
            },
            "colorscale": [
             [
              0,
              "#0d0887"
             ],
             [
              0.1111111111111111,
              "#46039f"
             ],
             [
              0.2222222222222222,
              "#7201a8"
             ],
             [
              0.3333333333333333,
              "#9c179e"
             ],
             [
              0.4444444444444444,
              "#bd3786"
             ],
             [
              0.5555555555555556,
              "#d8576b"
             ],
             [
              0.6666666666666666,
              "#ed7953"
             ],
             [
              0.7777777777777778,
              "#fb9f3a"
             ],
             [
              0.8888888888888888,
              "#fdca26"
             ],
             [
              1,
              "#f0f921"
             ]
            ],
            "type": "surface"
           }
          ],
          "table": [
           {
            "cells": {
             "fill": {
              "color": "#EBF0F8"
             },
             "line": {
              "color": "white"
             }
            },
            "header": {
             "fill": {
              "color": "#C8D4E3"
             },
             "line": {
              "color": "white"
             }
            },
            "type": "table"
           }
          ]
         },
         "layout": {
          "annotationdefaults": {
           "arrowcolor": "#2a3f5f",
           "arrowhead": 0,
           "arrowwidth": 1
          },
          "autotypenumbers": "strict",
          "coloraxis": {
           "colorbar": {
            "outlinewidth": 0,
            "ticks": ""
           }
          },
          "colorscale": {
           "diverging": [
            [
             0,
             "#8e0152"
            ],
            [
             0.1,
             "#c51b7d"
            ],
            [
             0.2,
             "#de77ae"
            ],
            [
             0.3,
             "#f1b6da"
            ],
            [
             0.4,
             "#fde0ef"
            ],
            [
             0.5,
             "#f7f7f7"
            ],
            [
             0.6,
             "#e6f5d0"
            ],
            [
             0.7,
             "#b8e186"
            ],
            [
             0.8,
             "#7fbc41"
            ],
            [
             0.9,
             "#4d9221"
            ],
            [
             1,
             "#276419"
            ]
           ],
           "sequential": [
            [
             0,
             "#0d0887"
            ],
            [
             0.1111111111111111,
             "#46039f"
            ],
            [
             0.2222222222222222,
             "#7201a8"
            ],
            [
             0.3333333333333333,
             "#9c179e"
            ],
            [
             0.4444444444444444,
             "#bd3786"
            ],
            [
             0.5555555555555556,
             "#d8576b"
            ],
            [
             0.6666666666666666,
             "#ed7953"
            ],
            [
             0.7777777777777778,
             "#fb9f3a"
            ],
            [
             0.8888888888888888,
             "#fdca26"
            ],
            [
             1,
             "#f0f921"
            ]
           ],
           "sequentialminus": [
            [
             0,
             "#0d0887"
            ],
            [
             0.1111111111111111,
             "#46039f"
            ],
            [
             0.2222222222222222,
             "#7201a8"
            ],
            [
             0.3333333333333333,
             "#9c179e"
            ],
            [
             0.4444444444444444,
             "#bd3786"
            ],
            [
             0.5555555555555556,
             "#d8576b"
            ],
            [
             0.6666666666666666,
             "#ed7953"
            ],
            [
             0.7777777777777778,
             "#fb9f3a"
            ],
            [
             0.8888888888888888,
             "#fdca26"
            ],
            [
             1,
             "#f0f921"
            ]
           ]
          },
          "colorway": [
           "#636efa",
           "#EF553B",
           "#00cc96",
           "#ab63fa",
           "#FFA15A",
           "#19d3f3",
           "#FF6692",
           "#B6E880",
           "#FF97FF",
           "#FECB52"
          ],
          "font": {
           "color": "#2a3f5f"
          },
          "geo": {
           "bgcolor": "white",
           "lakecolor": "white",
           "landcolor": "#E5ECF6",
           "showlakes": true,
           "showland": true,
           "subunitcolor": "white"
          },
          "hoverlabel": {
           "align": "left"
          },
          "hovermode": "closest",
          "mapbox": {
           "style": "light"
          },
          "paper_bgcolor": "white",
          "plot_bgcolor": "#E5ECF6",
          "polar": {
           "angularaxis": {
            "gridcolor": "white",
            "linecolor": "white",
            "ticks": ""
           },
           "bgcolor": "#E5ECF6",
           "radialaxis": {
            "gridcolor": "white",
            "linecolor": "white",
            "ticks": ""
           }
          },
          "scene": {
           "xaxis": {
            "backgroundcolor": "#E5ECF6",
            "gridcolor": "white",
            "gridwidth": 2,
            "linecolor": "white",
            "showbackground": true,
            "ticks": "",
            "zerolinecolor": "white"
           },
           "yaxis": {
            "backgroundcolor": "#E5ECF6",
            "gridcolor": "white",
            "gridwidth": 2,
            "linecolor": "white",
            "showbackground": true,
            "ticks": "",
            "zerolinecolor": "white"
           },
           "zaxis": {
            "backgroundcolor": "#E5ECF6",
            "gridcolor": "white",
            "gridwidth": 2,
            "linecolor": "white",
            "showbackground": true,
            "ticks": "",
            "zerolinecolor": "white"
           }
          },
          "shapedefaults": {
           "line": {
            "color": "#2a3f5f"
           }
          },
          "ternary": {
           "aaxis": {
            "gridcolor": "white",
            "linecolor": "white",
            "ticks": ""
           },
           "baxis": {
            "gridcolor": "white",
            "linecolor": "white",
            "ticks": ""
           },
           "bgcolor": "#E5ECF6",
           "caxis": {
            "gridcolor": "white",
            "linecolor": "white",
            "ticks": ""
           }
          },
          "title": {
           "x": 0.05
          },
          "xaxis": {
           "automargin": true,
           "gridcolor": "white",
           "linecolor": "white",
           "ticks": "",
           "title": {
            "standoff": 15
           },
           "zerolinecolor": "white",
           "zerolinewidth": 2
          },
          "yaxis": {
           "automargin": true,
           "gridcolor": "white",
           "linecolor": "white",
           "ticks": "",
           "title": {
            "standoff": 15
           },
           "zerolinecolor": "white",
           "zerolinewidth": 2
          }
         }
        },
        "title": {
         "text": "Fig.4: Rank Of Health and Survival"
        }
       }
      }
     },
     "metadata": {},
     "output_type": "display_data"
    }
   ],
   "source": [
    "fig4=px.choropleth(df,\n",
    "              locations=df.ISO3,\n",
    "              color='Health and Survival Rank',\n",
    "              projection='kavrayskiy7',\n",
    "              scope='world',\n",
    "              title='Fig.4: Rank Of Health and Survival')\n",
    "\n",
    "fig4.show()"
   ]
  },
  {
   "cell_type": "code",
   "execution_count": 14,
   "metadata": {},
   "outputs": [
    {
     "data": {
      "application/vnd.plotly.v1+json": {
       "config": {
        "plotlyServerURL": "https://plot.ly"
       },
       "data": [
        {
         "coloraxis": "coloraxis",
         "geo": "geo",
         "hovertemplate": "ISO3=%{location}<br>Political Empowerment Rank=%{z}<extra></extra>",
         "locations": [
          "ISL",
          "FIN",
          "NOR",
          "SWE",
          "PHL",
          "IRL",
          "NZL",
          "DNK",
          "CHE",
          "NIC",
          "BEL",
          "LVA",
          "NLD",
          "DEU",
          "CUB",
          "LSO",
          "ZAF",
          "GBR",
          "AUT",
          "CAN",
          "LUX",
          "BDI",
          "USA",
          "AUS",
          "ECU",
          "MOZ",
          "BOL",
          "LTU",
          "BRB",
          "ESP",
          "CRI",
          "KAZ",
          "MNG",
          "ARG",
          "COL",
          "TTO",
          "PAN",
          "SVN",
          "MWI",
          "BHS",
          "CPV",
          "SRB",
          "BGR",
          "NAM",
          "FRA",
          "UGA",
          "JAM",
          "GUY",
          "HRV",
          "VEN",
          "PRT",
          "MDA",
          "ISR",
          "POL",
          "LKA",
          "MDG",
          "MKD",
          "SGP",
          "EST",
          "LAO",
          "RUS",
          "BRA",
          "KGZ",
          "UKR",
          "THA",
          "TZA",
          "SEN",
          "MEX",
          "CHN",
          "ROU",
          "ITA",
          "DOM",
          "VNM",
          "SVK",
          "BGD",
          "GHA",
          "URY",
          "KEN",
          "CYP",
          "PER",
          "GRC",
          "HND",
          "CZE",
          "MLT",
          "BWA",
          "GEO",
          "HUN",
          "BRN",
          "PRY",
          "TJK",
          "CHL",
          "AGO",
          "BTN",
          "ARM",
          "IDN",
          "SLV",
          "MDV",
          "MUS",
          "AZE",
          "CMR",
          "IND",
          "MYS",
          "BFA",
          "KHM",
          "JPN",
          "NGA",
          "BLZ",
          "ALB",
          "ARE",
          "SUR",
          "KOR",
          "BHR",
          "ZMB",
          "GTM",
          "QAT",
          "KWT",
          "FJI",
          "ETH",
          "JOR",
          "TUR",
          "NPL",
          "OMN",
          "LBN",
          "DZA",
          "EGY",
          "BEN",
          "SAU",
          "MLI",
          "MAR",
          "IRN",
          "CIV",
          "MRT",
          "SYR",
          "TCD",
          "PAK",
          "YEM"
         ],
         "name": "",
         "type": "choropleth",
         "z": [
          1,
          2,
          3,
          4,
          10,
          6,
          12,
          11,
          16,
          5,
          14,
          26,
          22,
          15,
          13,
          35,
          8,
          29,
          19,
          42,
          51,
          31,
          60,
          43,
          17,
          18,
          23,
          47,
          63,
          27,
          21,
          65,
          108,
          24,
          55,
          38,
          48,
          54,
          56,
          124,
          25,
          39,
          58,
          52,
          45,
          28,
          74,
          33,
          50,
          37,
          46,
          87,
          57,
          49,
          30,
          61,
          40,
          90,
          88,
          73,
          94,
          68,
          71,
          119,
          89,
          32,
          20,
          36,
          59,
          91,
          44,
          84,
          80,
          77,
          7,
          95,
          116,
          85,
          76,
          69,
          92,
          78,
          79,
          53,
          127,
          97,
          120,
          135,
          104,
          100,
          67,
          34,
          122,
          115,
          75,
          70,
          101,
          93,
          114,
          99,
          9,
          121,
          98,
          96,
          118,
          83,
          133,
          130,
          81,
          110,
          86,
          113,
          109,
          123,
          135,
          126,
          125,
          66,
          117,
          103,
          41,
          132,
          133,
          62,
          128,
          72,
          105,
          106,
          111,
          129,
          107,
          82,
          112,
          102,
          64,
          131
         ]
        }
       ],
       "layout": {
        "coloraxis": {
         "colorbar": {
          "title": {
           "text": "Political Empowerment Rank"
          }
         },
         "colorscale": [
          [
           0,
           "#0d0887"
          ],
          [
           0.1111111111111111,
           "#46039f"
          ],
          [
           0.2222222222222222,
           "#7201a8"
          ],
          [
           0.3333333333333333,
           "#9c179e"
          ],
          [
           0.4444444444444444,
           "#bd3786"
          ],
          [
           0.5555555555555556,
           "#d8576b"
          ],
          [
           0.6666666666666666,
           "#ed7953"
          ],
          [
           0.7777777777777778,
           "#fb9f3a"
          ],
          [
           0.8888888888888888,
           "#fdca26"
          ],
          [
           1,
           "#f0f921"
          ]
         ]
        },
        "geo": {
         "center": {},
         "domain": {
          "x": [
           0,
           1
          ],
          "y": [
           0,
           1
          ]
         },
         "projection": {
          "type": "kavrayskiy7"
         },
         "scope": "world"
        },
        "legend": {
         "tracegroupgap": 0
        },
        "template": {
         "data": {
          "bar": [
           {
            "error_x": {
             "color": "#2a3f5f"
            },
            "error_y": {
             "color": "#2a3f5f"
            },
            "marker": {
             "line": {
              "color": "#E5ECF6",
              "width": 0.5
             },
             "pattern": {
              "fillmode": "overlay",
              "size": 10,
              "solidity": 0.2
             }
            },
            "type": "bar"
           }
          ],
          "barpolar": [
           {
            "marker": {
             "line": {
              "color": "#E5ECF6",
              "width": 0.5
             },
             "pattern": {
              "fillmode": "overlay",
              "size": 10,
              "solidity": 0.2
             }
            },
            "type": "barpolar"
           }
          ],
          "carpet": [
           {
            "aaxis": {
             "endlinecolor": "#2a3f5f",
             "gridcolor": "white",
             "linecolor": "white",
             "minorgridcolor": "white",
             "startlinecolor": "#2a3f5f"
            },
            "baxis": {
             "endlinecolor": "#2a3f5f",
             "gridcolor": "white",
             "linecolor": "white",
             "minorgridcolor": "white",
             "startlinecolor": "#2a3f5f"
            },
            "type": "carpet"
           }
          ],
          "choropleth": [
           {
            "colorbar": {
             "outlinewidth": 0,
             "ticks": ""
            },
            "type": "choropleth"
           }
          ],
          "contour": [
           {
            "colorbar": {
             "outlinewidth": 0,
             "ticks": ""
            },
            "colorscale": [
             [
              0,
              "#0d0887"
             ],
             [
              0.1111111111111111,
              "#46039f"
             ],
             [
              0.2222222222222222,
              "#7201a8"
             ],
             [
              0.3333333333333333,
              "#9c179e"
             ],
             [
              0.4444444444444444,
              "#bd3786"
             ],
             [
              0.5555555555555556,
              "#d8576b"
             ],
             [
              0.6666666666666666,
              "#ed7953"
             ],
             [
              0.7777777777777778,
              "#fb9f3a"
             ],
             [
              0.8888888888888888,
              "#fdca26"
             ],
             [
              1,
              "#f0f921"
             ]
            ],
            "type": "contour"
           }
          ],
          "contourcarpet": [
           {
            "colorbar": {
             "outlinewidth": 0,
             "ticks": ""
            },
            "type": "contourcarpet"
           }
          ],
          "heatmap": [
           {
            "colorbar": {
             "outlinewidth": 0,
             "ticks": ""
            },
            "colorscale": [
             [
              0,
              "#0d0887"
             ],
             [
              0.1111111111111111,
              "#46039f"
             ],
             [
              0.2222222222222222,
              "#7201a8"
             ],
             [
              0.3333333333333333,
              "#9c179e"
             ],
             [
              0.4444444444444444,
              "#bd3786"
             ],
             [
              0.5555555555555556,
              "#d8576b"
             ],
             [
              0.6666666666666666,
              "#ed7953"
             ],
             [
              0.7777777777777778,
              "#fb9f3a"
             ],
             [
              0.8888888888888888,
              "#fdca26"
             ],
             [
              1,
              "#f0f921"
             ]
            ],
            "type": "heatmap"
           }
          ],
          "heatmapgl": [
           {
            "colorbar": {
             "outlinewidth": 0,
             "ticks": ""
            },
            "colorscale": [
             [
              0,
              "#0d0887"
             ],
             [
              0.1111111111111111,
              "#46039f"
             ],
             [
              0.2222222222222222,
              "#7201a8"
             ],
             [
              0.3333333333333333,
              "#9c179e"
             ],
             [
              0.4444444444444444,
              "#bd3786"
             ],
             [
              0.5555555555555556,
              "#d8576b"
             ],
             [
              0.6666666666666666,
              "#ed7953"
             ],
             [
              0.7777777777777778,
              "#fb9f3a"
             ],
             [
              0.8888888888888888,
              "#fdca26"
             ],
             [
              1,
              "#f0f921"
             ]
            ],
            "type": "heatmapgl"
           }
          ],
          "histogram": [
           {
            "marker": {
             "pattern": {
              "fillmode": "overlay",
              "size": 10,
              "solidity": 0.2
             }
            },
            "type": "histogram"
           }
          ],
          "histogram2d": [
           {
            "colorbar": {
             "outlinewidth": 0,
             "ticks": ""
            },
            "colorscale": [
             [
              0,
              "#0d0887"
             ],
             [
              0.1111111111111111,
              "#46039f"
             ],
             [
              0.2222222222222222,
              "#7201a8"
             ],
             [
              0.3333333333333333,
              "#9c179e"
             ],
             [
              0.4444444444444444,
              "#bd3786"
             ],
             [
              0.5555555555555556,
              "#d8576b"
             ],
             [
              0.6666666666666666,
              "#ed7953"
             ],
             [
              0.7777777777777778,
              "#fb9f3a"
             ],
             [
              0.8888888888888888,
              "#fdca26"
             ],
             [
              1,
              "#f0f921"
             ]
            ],
            "type": "histogram2d"
           }
          ],
          "histogram2dcontour": [
           {
            "colorbar": {
             "outlinewidth": 0,
             "ticks": ""
            },
            "colorscale": [
             [
              0,
              "#0d0887"
             ],
             [
              0.1111111111111111,
              "#46039f"
             ],
             [
              0.2222222222222222,
              "#7201a8"
             ],
             [
              0.3333333333333333,
              "#9c179e"
             ],
             [
              0.4444444444444444,
              "#bd3786"
             ],
             [
              0.5555555555555556,
              "#d8576b"
             ],
             [
              0.6666666666666666,
              "#ed7953"
             ],
             [
              0.7777777777777778,
              "#fb9f3a"
             ],
             [
              0.8888888888888888,
              "#fdca26"
             ],
             [
              1,
              "#f0f921"
             ]
            ],
            "type": "histogram2dcontour"
           }
          ],
          "mesh3d": [
           {
            "colorbar": {
             "outlinewidth": 0,
             "ticks": ""
            },
            "type": "mesh3d"
           }
          ],
          "parcoords": [
           {
            "line": {
             "colorbar": {
              "outlinewidth": 0,
              "ticks": ""
             }
            },
            "type": "parcoords"
           }
          ],
          "pie": [
           {
            "automargin": true,
            "type": "pie"
           }
          ],
          "scatter": [
           {
            "fillpattern": {
             "fillmode": "overlay",
             "size": 10,
             "solidity": 0.2
            },
            "type": "scatter"
           }
          ],
          "scatter3d": [
           {
            "line": {
             "colorbar": {
              "outlinewidth": 0,
              "ticks": ""
             }
            },
            "marker": {
             "colorbar": {
              "outlinewidth": 0,
              "ticks": ""
             }
            },
            "type": "scatter3d"
           }
          ],
          "scattercarpet": [
           {
            "marker": {
             "colorbar": {
              "outlinewidth": 0,
              "ticks": ""
             }
            },
            "type": "scattercarpet"
           }
          ],
          "scattergeo": [
           {
            "marker": {
             "colorbar": {
              "outlinewidth": 0,
              "ticks": ""
             }
            },
            "type": "scattergeo"
           }
          ],
          "scattergl": [
           {
            "marker": {
             "colorbar": {
              "outlinewidth": 0,
              "ticks": ""
             }
            },
            "type": "scattergl"
           }
          ],
          "scattermapbox": [
           {
            "marker": {
             "colorbar": {
              "outlinewidth": 0,
              "ticks": ""
             }
            },
            "type": "scattermapbox"
           }
          ],
          "scatterpolar": [
           {
            "marker": {
             "colorbar": {
              "outlinewidth": 0,
              "ticks": ""
             }
            },
            "type": "scatterpolar"
           }
          ],
          "scatterpolargl": [
           {
            "marker": {
             "colorbar": {
              "outlinewidth": 0,
              "ticks": ""
             }
            },
            "type": "scatterpolargl"
           }
          ],
          "scatterternary": [
           {
            "marker": {
             "colorbar": {
              "outlinewidth": 0,
              "ticks": ""
             }
            },
            "type": "scatterternary"
           }
          ],
          "surface": [
           {
            "colorbar": {
             "outlinewidth": 0,
             "ticks": ""
            },
            "colorscale": [
             [
              0,
              "#0d0887"
             ],
             [
              0.1111111111111111,
              "#46039f"
             ],
             [
              0.2222222222222222,
              "#7201a8"
             ],
             [
              0.3333333333333333,
              "#9c179e"
             ],
             [
              0.4444444444444444,
              "#bd3786"
             ],
             [
              0.5555555555555556,
              "#d8576b"
             ],
             [
              0.6666666666666666,
              "#ed7953"
             ],
             [
              0.7777777777777778,
              "#fb9f3a"
             ],
             [
              0.8888888888888888,
              "#fdca26"
             ],
             [
              1,
              "#f0f921"
             ]
            ],
            "type": "surface"
           }
          ],
          "table": [
           {
            "cells": {
             "fill": {
              "color": "#EBF0F8"
             },
             "line": {
              "color": "white"
             }
            },
            "header": {
             "fill": {
              "color": "#C8D4E3"
             },
             "line": {
              "color": "white"
             }
            },
            "type": "table"
           }
          ]
         },
         "layout": {
          "annotationdefaults": {
           "arrowcolor": "#2a3f5f",
           "arrowhead": 0,
           "arrowwidth": 1
          },
          "autotypenumbers": "strict",
          "coloraxis": {
           "colorbar": {
            "outlinewidth": 0,
            "ticks": ""
           }
          },
          "colorscale": {
           "diverging": [
            [
             0,
             "#8e0152"
            ],
            [
             0.1,
             "#c51b7d"
            ],
            [
             0.2,
             "#de77ae"
            ],
            [
             0.3,
             "#f1b6da"
            ],
            [
             0.4,
             "#fde0ef"
            ],
            [
             0.5,
             "#f7f7f7"
            ],
            [
             0.6,
             "#e6f5d0"
            ],
            [
             0.7,
             "#b8e186"
            ],
            [
             0.8,
             "#7fbc41"
            ],
            [
             0.9,
             "#4d9221"
            ],
            [
             1,
             "#276419"
            ]
           ],
           "sequential": [
            [
             0,
             "#0d0887"
            ],
            [
             0.1111111111111111,
             "#46039f"
            ],
            [
             0.2222222222222222,
             "#7201a8"
            ],
            [
             0.3333333333333333,
             "#9c179e"
            ],
            [
             0.4444444444444444,
             "#bd3786"
            ],
            [
             0.5555555555555556,
             "#d8576b"
            ],
            [
             0.6666666666666666,
             "#ed7953"
            ],
            [
             0.7777777777777778,
             "#fb9f3a"
            ],
            [
             0.8888888888888888,
             "#fdca26"
            ],
            [
             1,
             "#f0f921"
            ]
           ],
           "sequentialminus": [
            [
             0,
             "#0d0887"
            ],
            [
             0.1111111111111111,
             "#46039f"
            ],
            [
             0.2222222222222222,
             "#7201a8"
            ],
            [
             0.3333333333333333,
             "#9c179e"
            ],
            [
             0.4444444444444444,
             "#bd3786"
            ],
            [
             0.5555555555555556,
             "#d8576b"
            ],
            [
             0.6666666666666666,
             "#ed7953"
            ],
            [
             0.7777777777777778,
             "#fb9f3a"
            ],
            [
             0.8888888888888888,
             "#fdca26"
            ],
            [
             1,
             "#f0f921"
            ]
           ]
          },
          "colorway": [
           "#636efa",
           "#EF553B",
           "#00cc96",
           "#ab63fa",
           "#FFA15A",
           "#19d3f3",
           "#FF6692",
           "#B6E880",
           "#FF97FF",
           "#FECB52"
          ],
          "font": {
           "color": "#2a3f5f"
          },
          "geo": {
           "bgcolor": "white",
           "lakecolor": "white",
           "landcolor": "#E5ECF6",
           "showlakes": true,
           "showland": true,
           "subunitcolor": "white"
          },
          "hoverlabel": {
           "align": "left"
          },
          "hovermode": "closest",
          "mapbox": {
           "style": "light"
          },
          "paper_bgcolor": "white",
          "plot_bgcolor": "#E5ECF6",
          "polar": {
           "angularaxis": {
            "gridcolor": "white",
            "linecolor": "white",
            "ticks": ""
           },
           "bgcolor": "#E5ECF6",
           "radialaxis": {
            "gridcolor": "white",
            "linecolor": "white",
            "ticks": ""
           }
          },
          "scene": {
           "xaxis": {
            "backgroundcolor": "#E5ECF6",
            "gridcolor": "white",
            "gridwidth": 2,
            "linecolor": "white",
            "showbackground": true,
            "ticks": "",
            "zerolinecolor": "white"
           },
           "yaxis": {
            "backgroundcolor": "#E5ECF6",
            "gridcolor": "white",
            "gridwidth": 2,
            "linecolor": "white",
            "showbackground": true,
            "ticks": "",
            "zerolinecolor": "white"
           },
           "zaxis": {
            "backgroundcolor": "#E5ECF6",
            "gridcolor": "white",
            "gridwidth": 2,
            "linecolor": "white",
            "showbackground": true,
            "ticks": "",
            "zerolinecolor": "white"
           }
          },
          "shapedefaults": {
           "line": {
            "color": "#2a3f5f"
           }
          },
          "ternary": {
           "aaxis": {
            "gridcolor": "white",
            "linecolor": "white",
            "ticks": ""
           },
           "baxis": {
            "gridcolor": "white",
            "linecolor": "white",
            "ticks": ""
           },
           "bgcolor": "#E5ECF6",
           "caxis": {
            "gridcolor": "white",
            "linecolor": "white",
            "ticks": ""
           }
          },
          "title": {
           "x": 0.05
          },
          "xaxis": {
           "automargin": true,
           "gridcolor": "white",
           "linecolor": "white",
           "ticks": "",
           "title": {
            "standoff": 15
           },
           "zerolinecolor": "white",
           "zerolinewidth": 2
          },
          "yaxis": {
           "automargin": true,
           "gridcolor": "white",
           "linecolor": "white",
           "ticks": "",
           "title": {
            "standoff": 15
           },
           "zerolinecolor": "white",
           "zerolinewidth": 2
          }
         }
        },
        "title": {
         "text": "Fig.5: Rank Of Political Empowerment"
        }
       }
      }
     },
     "metadata": {},
     "output_type": "display_data"
    }
   ],
   "source": [
    "fig5=px.choropleth(df,\n",
    "              locations=df.ISO3,\n",
    "              color='Political Empowerment Rank',\n",
    "              projection='kavrayskiy7',\n",
    "              scope='world',\n",
    "              title='Fig.5: Rank Of Political Empowerment')\n",
    "\n",
    "fig5.show()"
   ]
  },
  {
   "cell_type": "code",
   "execution_count": 17,
   "metadata": {},
   "outputs": [
    {
     "name": "stdout",
     "output_type": "stream",
     "text": [
      "   Country ISO3     level_2       0\n",
      "0  Iceland  ISL  2006 Score  0.7813\n",
      "1  Iceland  ISL  2007 Score  0.7836\n",
      "2  Iceland  ISL  2008 Score  0.7999\n",
      "3  Iceland  ISL  2009 Score  0.8276\n",
      "4  Iceland  ISL  2010 Score  0.8496\n",
      "5  Iceland  ISL  2011 Score  0.8530\n",
      "6  Iceland  ISL  2012 Score  0.8640\n",
      "7  Iceland  ISL  2013 Score  0.8731\n",
      "8  Finland  FIN  2006 Score  0.7958\n",
      "9  Finland  FIN  2007 Score  0.8044\n"
     ]
    }
   ],
   "source": [
    "df_timeseries1=pd.read_csv(\"global-gender-gap-index-2013 - Table 3a - Index 2013 - 2006.csv\", encoding=\"unicode_escape\")\n",
    "df_timeseries1=df_timeseries1.dropna()\n",
    "df_timeseries1=df_timeseries1[[\"Country\", \"ISO3\", \"2006 Score\", \"2007 Score\", \"2008 Score\", \"2009 Score\", \"2010 Score\", \"2011 Score\", \"2012 Score\", \"2013 Score\"]]\n",
    "df_timeseries1=df_timeseries1.set_index([\"Country\", \"ISO3\"])\n",
    "df_timeseries1=df_timeseries1.stack()\n",
    "df_timeseries1=pd.DataFrame(df_timeseries1)\n",
    "df_timeseries1=df_timeseries1.reset_index()\n",
    "\n",
    "print(df_timeseries1.head(10))"
   ]
  },
  {
   "cell_type": "code",
   "execution_count": 18,
   "metadata": {},
   "outputs": [
    {
     "data": {
      "application/vnd.plotly.v1+json": {
       "config": {
        "plotlyServerURL": "https://plot.ly"
       },
       "data": [
        {
         "coloraxis": "coloraxis",
         "geo": "geo",
         "hovertemplate": "level_2=2006 Score<br>ISO3=%{location}<br>0=%{z}<extra></extra>",
         "locations": [
          "ISL",
          "FIN",
          "NOR",
          "SWE",
          "PHL",
          "IRL",
          "NZL",
          "DNK",
          "CHE",
          "NIC",
          "BEL",
          "LVA",
          "NLD",
          "DEU",
          "LSO",
          "ZAF",
          "GBR",
          "AUT",
          "CAN",
          "LUX",
          "USA",
          "AUS",
          "ECU",
          "BOL",
          "LTU",
          "ESP",
          "CRI",
          "KAZ",
          "MNG",
          "ARG",
          "COL",
          "TTO",
          "PAN",
          "SVN",
          "MWI",
          "BGR",
          "NAM",
          "FRA",
          "UGA",
          "JAM",
          "HRV",
          "VEN",
          "PRT",
          "MDA",
          "ISR",
          "POL",
          "LKA",
          "MDG",
          "MKD",
          "SGP",
          "EST",
          "RUS",
          "BRA",
          "KGZ",
          "UKR",
          "THA",
          "TZA",
          "MEX",
          "CHN",
          "ROU",
          "ITA",
          "DOM",
          "SVK",
          "BGD",
          "GHA",
          "URY",
          "KEN",
          "CYP",
          "PER",
          "GRC",
          "HND",
          "CZE",
          "MLT",
          "BWA",
          "GEO",
          "HUN",
          "PRY",
          "CHL",
          "IDN",
          "SLV",
          "MUS",
          "CMR",
          "IND",
          "MYS",
          "BFA",
          "KHM",
          "JPN",
          "NGA",
          "ALB",
          "ARE",
          "KOR",
          "BHR",
          "ZMB",
          "GTM",
          "KWT",
          "ETH",
          "JOR",
          "TUR",
          "NPL",
          "DZA",
          "EGY",
          "BEN",
          "SAU",
          "MLI",
          "MAR",
          "IRN",
          "MRT",
          "TCD",
          "PAK",
          "YEM"
         ],
         "name": "",
         "type": "choropleth",
         "z": [
          0.7813,
          0.7958,
          0.7994,
          0.8133,
          0.7516,
          0.7335,
          0.7509,
          0.7462,
          0.6997,
          0.6566,
          0.7078,
          0.7091,
          0.725,
          0.7524,
          0.6807,
          0.7125,
          0.7365,
          0.6986,
          0.7165,
          0.6671,
          0.7042,
          0.7163,
          0.6433,
          0.6335,
          0.7077,
          0.7319,
          0.6936,
          0.6928,
          0.6821,
          0.6829,
          0.7049,
          0.6797,
          0.6935,
          0.6745,
          0.6437,
          0.687,
          0.6864,
          0.652,
          0.6797,
          0.7014,
          0.7145,
          0.6664,
          0.6922,
          0.7128,
          0.6889,
          0.6802,
          0.7199,
          0.6385,
          0.6983,
          0.655,
          0.6944,
          0.677,
          0.6543,
          0.6742,
          0.6797,
          0.6831,
          0.7038,
          0.6462,
          0.6561,
          0.6797,
          0.6456,
          0.6639,
          0.6757,
          0.627,
          0.6653,
          0.6549,
          0.6486,
          0.643,
          0.6619,
          0.654,
          0.6483,
          0.6712,
          0.6518,
          0.6897,
          0.67,
          0.6698,
          0.6556,
          0.6455,
          0.6541,
          0.6837,
          0.6328,
          0.5865,
          0.6011,
          0.6509,
          0.5854,
          0.6291,
          0.6447,
          0.6104,
          0.6607,
          0.5919,
          0.6157,
          0.5894,
          0.636,
          0.6067,
          0.6341,
          0.5946,
          0.6109,
          0.585,
          0.5478,
          0.6018,
          0.5786,
          0.578,
          0.5242,
          0.5996,
          0.5827,
          0.5803,
          0.5835,
          0.5247,
          0.5434,
          0.4595
         ]
        }
       ],
       "frames": [
        {
         "data": [
          {
           "coloraxis": "coloraxis",
           "geo": "geo",
           "hovertemplate": "level_2=2006 Score<br>ISO3=%{location}<br>0=%{z}<extra></extra>",
           "locations": [
            "ISL",
            "FIN",
            "NOR",
            "SWE",
            "PHL",
            "IRL",
            "NZL",
            "DNK",
            "CHE",
            "NIC",
            "BEL",
            "LVA",
            "NLD",
            "DEU",
            "LSO",
            "ZAF",
            "GBR",
            "AUT",
            "CAN",
            "LUX",
            "USA",
            "AUS",
            "ECU",
            "BOL",
            "LTU",
            "ESP",
            "CRI",
            "KAZ",
            "MNG",
            "ARG",
            "COL",
            "TTO",
            "PAN",
            "SVN",
            "MWI",
            "BGR",
            "NAM",
            "FRA",
            "UGA",
            "JAM",
            "HRV",
            "VEN",
            "PRT",
            "MDA",
            "ISR",
            "POL",
            "LKA",
            "MDG",
            "MKD",
            "SGP",
            "EST",
            "RUS",
            "BRA",
            "KGZ",
            "UKR",
            "THA",
            "TZA",
            "MEX",
            "CHN",
            "ROU",
            "ITA",
            "DOM",
            "SVK",
            "BGD",
            "GHA",
            "URY",
            "KEN",
            "CYP",
            "PER",
            "GRC",
            "HND",
            "CZE",
            "MLT",
            "BWA",
            "GEO",
            "HUN",
            "PRY",
            "CHL",
            "IDN",
            "SLV",
            "MUS",
            "CMR",
            "IND",
            "MYS",
            "BFA",
            "KHM",
            "JPN",
            "NGA",
            "ALB",
            "ARE",
            "KOR",
            "BHR",
            "ZMB",
            "GTM",
            "KWT",
            "ETH",
            "JOR",
            "TUR",
            "NPL",
            "DZA",
            "EGY",
            "BEN",
            "SAU",
            "MLI",
            "MAR",
            "IRN",
            "MRT",
            "TCD",
            "PAK",
            "YEM"
           ],
           "name": "",
           "type": "choropleth",
           "z": [
            0.7813,
            0.7958,
            0.7994,
            0.8133,
            0.7516,
            0.7335,
            0.7509,
            0.7462,
            0.6997,
            0.6566,
            0.7078,
            0.7091,
            0.725,
            0.7524,
            0.6807,
            0.7125,
            0.7365,
            0.6986,
            0.7165,
            0.6671,
            0.7042,
            0.7163,
            0.6433,
            0.6335,
            0.7077,
            0.7319,
            0.6936,
            0.6928,
            0.6821,
            0.6829,
            0.7049,
            0.6797,
            0.6935,
            0.6745,
            0.6437,
            0.687,
            0.6864,
            0.652,
            0.6797,
            0.7014,
            0.7145,
            0.6664,
            0.6922,
            0.7128,
            0.6889,
            0.6802,
            0.7199,
            0.6385,
            0.6983,
            0.655,
            0.6944,
            0.677,
            0.6543,
            0.6742,
            0.6797,
            0.6831,
            0.7038,
            0.6462,
            0.6561,
            0.6797,
            0.6456,
            0.6639,
            0.6757,
            0.627,
            0.6653,
            0.6549,
            0.6486,
            0.643,
            0.6619,
            0.654,
            0.6483,
            0.6712,
            0.6518,
            0.6897,
            0.67,
            0.6698,
            0.6556,
            0.6455,
            0.6541,
            0.6837,
            0.6328,
            0.5865,
            0.6011,
            0.6509,
            0.5854,
            0.6291,
            0.6447,
            0.6104,
            0.6607,
            0.5919,
            0.6157,
            0.5894,
            0.636,
            0.6067,
            0.6341,
            0.5946,
            0.6109,
            0.585,
            0.5478,
            0.6018,
            0.5786,
            0.578,
            0.5242,
            0.5996,
            0.5827,
            0.5803,
            0.5835,
            0.5247,
            0.5434,
            0.4595
           ]
          }
         ],
         "name": "2006 Score"
        },
        {
         "data": [
          {
           "coloraxis": "coloraxis",
           "geo": "geo",
           "hovertemplate": "level_2=2007 Score<br>ISO3=%{location}<br>0=%{z}<extra></extra>",
           "locations": [
            "ISL",
            "FIN",
            "NOR",
            "SWE",
            "PHL",
            "IRL",
            "NZL",
            "DNK",
            "CHE",
            "NIC",
            "BEL",
            "LVA",
            "NLD",
            "DEU",
            "LSO",
            "ZAF",
            "GBR",
            "AUT",
            "CAN",
            "LUX",
            "USA",
            "AUS",
            "ECU",
            "BOL",
            "LTU",
            "ESP",
            "CRI",
            "KAZ",
            "MNG",
            "ARG",
            "COL",
            "TTO",
            "PAN",
            "SVN",
            "MWI",
            "BGR",
            "NAM",
            "FRA",
            "UGA",
            "JAM",
            "HRV",
            "VEN",
            "PRT",
            "MDA",
            "ISR",
            "POL",
            "LKA",
            "MDG",
            "MKD",
            "SGP",
            "EST",
            "RUS",
            "BRA",
            "KGZ",
            "UKR",
            "THA",
            "TZA",
            "MEX",
            "CHN",
            "ROU",
            "ITA",
            "DOM",
            "SVK",
            "BGD",
            "GHA",
            "URY",
            "KEN",
            "CYP",
            "PER",
            "GRC",
            "HND",
            "CZE",
            "MLT",
            "BWA",
            "GEO",
            "HUN",
            "PRY",
            "CHL",
            "IDN",
            "SLV",
            "MUS",
            "CMR",
            "IND",
            "MYS",
            "BFA",
            "KHM",
            "JPN",
            "NGA",
            "ALB",
            "ARE",
            "KOR",
            "BHR",
            "ZMB",
            "GTM",
            "KWT",
            "ETH",
            "JOR",
            "TUR",
            "NPL",
            "DZA",
            "EGY",
            "BEN",
            "SAU",
            "MLI",
            "MAR",
            "IRN",
            "MRT",
            "TCD",
            "PAK",
            "YEM"
           ],
           "name": "",
           "type": "choropleth",
           "z": [
            0.7836,
            0.8044,
            0.8059,
            0.8146,
            0.7629,
            0.7457,
            0.7649,
            0.7519,
            0.6924,
            0.6458,
            0.7198,
            0.7333,
            0.7383,
            0.7618,
            0.7078,
            0.7194,
            0.7441,
            0.706,
            0.7198,
            0.6786,
            0.7002,
            0.7204,
            0.6881,
            0.6574,
            0.7234,
            0.7444,
            0.7014,
            0.6983,
            0.6731,
            0.6982,
            0.709,
            0.6859,
            0.6954,
            0.6842,
            0.648,
            0.7085,
            0.7012,
            0.6824,
            0.6833,
            0.6925,
            0.721,
            0.6797,
            0.6959,
            0.7172,
            0.6965,
            0.6756,
            0.723,
            0.6461,
            0.6967,
            0.6609,
            0.7008,
            0.6866,
            0.6637,
            0.6653,
            0.679,
            0.6815,
            0.6969,
            0.6441,
            0.6643,
            0.6859,
            0.6498,
            0.6705,
            0.6797,
            0.6314,
            0.6725,
            0.6608,
            0.6508,
            0.6522,
            0.6624,
            0.6648,
            0.6661,
            0.6718,
            0.6615,
            0.6797,
            0.6665,
            0.6731,
            0.6659,
            0.6482,
            0.655,
            0.6853,
            0.6487,
            0.5919,
            0.5936,
            0.6444,
            0.5912,
            0.6353,
            0.6455,
            0.6122,
            0.6685,
            0.6184,
            0.6409,
            0.5931,
            0.6288,
            0.6144,
            0.6409,
            0.5991,
            0.6203,
            0.5768,
            0.5575,
            0.6068,
            0.5809,
            0.5656,
            0.5647,
            0.6019,
            0.5676,
            0.5903,
            0.6022,
            0.5381,
            0.5509,
            0.451
           ]
          }
         ],
         "name": "2007 Score"
        },
        {
         "data": [
          {
           "coloraxis": "coloraxis",
           "geo": "geo",
           "hovertemplate": "level_2=2008 Score<br>ISO3=%{location}<br>0=%{z}<extra></extra>",
           "locations": [
            "ISL",
            "FIN",
            "NOR",
            "SWE",
            "PHL",
            "IRL",
            "NZL",
            "DNK",
            "CHE",
            "NIC",
            "BEL",
            "LVA",
            "NLD",
            "DEU",
            "LSO",
            "ZAF",
            "GBR",
            "AUT",
            "CAN",
            "LUX",
            "USA",
            "AUS",
            "ECU",
            "BOL",
            "LTU",
            "ESP",
            "CRI",
            "KAZ",
            "MNG",
            "ARG",
            "COL",
            "TTO",
            "PAN",
            "SVN",
            "MWI",
            "BGR",
            "NAM",
            "FRA",
            "UGA",
            "JAM",
            "HRV",
            "VEN",
            "PRT",
            "MDA",
            "ISR",
            "POL",
            "LKA",
            "MDG",
            "MKD",
            "SGP",
            "EST",
            "RUS",
            "BRA",
            "KGZ",
            "UKR",
            "THA",
            "TZA",
            "MEX",
            "CHN",
            "ROU",
            "ITA",
            "DOM",
            "SVK",
            "BGD",
            "GHA",
            "URY",
            "KEN",
            "CYP",
            "PER",
            "GRC",
            "HND",
            "CZE",
            "MLT",
            "BWA",
            "GEO",
            "HUN",
            "PRY",
            "CHL",
            "IDN",
            "SLV",
            "MUS",
            "CMR",
            "IND",
            "MYS",
            "BFA",
            "KHM",
            "JPN",
            "NGA",
            "ALB",
            "ARE",
            "KOR",
            "BHR",
            "ZMB",
            "GTM",
            "KWT",
            "ETH",
            "JOR",
            "TUR",
            "NPL",
            "DZA",
            "EGY",
            "BEN",
            "SAU",
            "MLI",
            "MAR",
            "IRN",
            "MRT",
            "TCD",
            "PAK",
            "YEM"
           ],
           "name": "",
           "type": "choropleth",
           "z": [
            0.7999,
            0.8195,
            0.8239,
            0.8139,
            0.7568,
            0.7518,
            0.7859,
            0.7538,
            0.736,
            0.6747,
            0.7163,
            0.7397,
            0.7399,
            0.7394,
            0.732,
            0.7232,
            0.7366,
            0.7153,
            0.7136,
            0.6802,
            0.7179,
            0.7241,
            0.7091,
            0.6667,
            0.7222,
            0.7281,
            0.7111,
            0.6976,
            0.7049,
            0.7209,
            0.6944,
            0.7245,
            0.7095,
            0.6937,
            0.6664,
            0.7077,
            0.7141,
            0.7341,
            0.6981,
            0.698,
            0.6967,
            0.6875,
            0.7051,
            0.7244,
            0.69,
            0.6951,
            0.7371,
            0.6736,
            0.6914,
            0.6625,
            0.7076,
            0.6994,
            0.6737,
            0.7045,
            0.6856,
            0.6917,
            0.7068,
            0.6441,
            0.6878,
            0.6763,
            0.6788,
            0.6744,
            0.6824,
            0.6531,
            0.6679,
            0.6907,
            0.6547,
            0.6694,
            0.6959,
            0.6727,
            0.696,
            0.677,
            0.6634,
            0.6839,
            0.6654,
            0.6867,
            0.6379,
            0.6818,
            0.6473,
            0.6875,
            0.6466,
            0.6017,
            0.606,
            0.6442,
            0.6029,
            0.6469,
            0.6434,
            0.6339,
            0.6591,
            0.622,
            0.6154,
            0.5927,
            0.6205,
            0.6072,
            0.6358,
            0.5867,
            0.6275,
            0.5853,
            0.5942,
            0.6111,
            0.5832,
            0.5582,
            0.5537,
            0.6117,
            0.5757,
            0.6021,
            0.6117,
            0.529,
            0.5549,
            0.4664
           ]
          }
         ],
         "name": "2008 Score"
        },
        {
         "data": [
          {
           "coloraxis": "coloraxis",
           "geo": "geo",
           "hovertemplate": "level_2=2009 Score<br>ISO3=%{location}<br>0=%{z}<extra></extra>",
           "locations": [
            "ISL",
            "FIN",
            "NOR",
            "SWE",
            "PHL",
            "IRL",
            "NZL",
            "DNK",
            "CHE",
            "NIC",
            "BEL",
            "LVA",
            "NLD",
            "DEU",
            "LSO",
            "ZAF",
            "GBR",
            "AUT",
            "CAN",
            "LUX",
            "USA",
            "AUS",
            "ECU",
            "BOL",
            "LTU",
            "ESP",
            "CRI",
            "KAZ",
            "MNG",
            "ARG",
            "COL",
            "TTO",
            "PAN",
            "SVN",
            "MWI",
            "BGR",
            "NAM",
            "FRA",
            "UGA",
            "JAM",
            "HRV",
            "VEN",
            "PRT",
            "MDA",
            "ISR",
            "POL",
            "LKA",
            "MDG",
            "MKD",
            "SGP",
            "EST",
            "RUS",
            "BRA",
            "KGZ",
            "UKR",
            "THA",
            "TZA",
            "MEX",
            "CHN",
            "ROU",
            "ITA",
            "DOM",
            "SVK",
            "BGD",
            "GHA",
            "URY",
            "KEN",
            "CYP",
            "PER",
            "GRC",
            "HND",
            "CZE",
            "MLT",
            "BWA",
            "GEO",
            "HUN",
            "PRY",
            "CHL",
            "IDN",
            "SLV",
            "MUS",
            "CMR",
            "IND",
            "MYS",
            "BFA",
            "KHM",
            "JPN",
            "NGA",
            "ALB",
            "ARE",
            "KOR",
            "BHR",
            "ZMB",
            "GTM",
            "KWT",
            "ETH",
            "JOR",
            "TUR",
            "NPL",
            "DZA",
            "EGY",
            "BEN",
            "SAU",
            "MLI",
            "MAR",
            "IRN",
            "MRT",
            "TCD",
            "PAK",
            "YEM"
           ],
           "name": "",
           "type": "choropleth",
           "z": [
            0.8276,
            0.8252,
            0.8227,
            0.8139,
            0.7579,
            0.7597,
            0.788,
            0.7628,
            0.7426,
            0.7002,
            0.7165,
            0.7416,
            0.749,
            0.7449,
            0.7495,
            0.7709,
            0.7402,
            0.7031,
            0.7196,
            0.6889,
            0.7173,
            0.7282,
            0.722,
            0.6693,
            0.7175,
            0.7345,
            0.718,
            0.7013,
            0.7221,
            0.7211,
            0.6939,
            0.7298,
            0.7024,
            0.6982,
            0.6738,
            0.7072,
            0.7167,
            0.7331,
            0.7067,
            0.7013,
            0.6944,
            0.6839,
            0.7013,
            0.7104,
            0.7019,
            0.6998,
            0.7402,
            0.6732,
            0.695,
            0.6664,
            0.7094,
            0.6987,
            0.6695,
            0.7058,
            0.6896,
            0.6907,
            0.6797,
            0.6503,
            0.6907,
            0.6805,
            0.6798,
            0.6859,
            0.6845,
            0.6526,
            0.6704,
            0.6936,
            0.6512,
            0.6706,
            0.7024,
            0.6662,
            0.6893,
            0.6789,
            0.6635,
            0.7071,
            0.668,
            0.6879,
            0.6868,
            0.6884,
            0.658,
            0.6939,
            0.6513,
            0.6108,
            0.6151,
            0.6467,
            0.6081,
            0.641,
            0.6447,
            0.628,
            0.6601,
            0.6198,
            0.6146,
            0.6136,
            0.631,
            0.6209,
            0.6356,
            0.5948,
            0.6182,
            0.5828,
            0.6213,
            0.6119,
            0.5862,
            0.5643,
            0.5651,
            0.586,
            0.5926,
            0.5839,
            0.6103,
            0.5417,
            0.5458,
            0.4609
           ]
          }
         ],
         "name": "2009 Score"
        },
        {
         "data": [
          {
           "coloraxis": "coloraxis",
           "geo": "geo",
           "hovertemplate": "level_2=2010 Score<br>ISO3=%{location}<br>0=%{z}<extra></extra>",
           "locations": [
            "ISL",
            "FIN",
            "NOR",
            "SWE",
            "PHL",
            "IRL",
            "NZL",
            "DNK",
            "CHE",
            "NIC",
            "BEL",
            "LVA",
            "NLD",
            "DEU",
            "LSO",
            "ZAF",
            "GBR",
            "AUT",
            "CAN",
            "LUX",
            "USA",
            "AUS",
            "ECU",
            "BOL",
            "LTU",
            "ESP",
            "CRI",
            "KAZ",
            "MNG",
            "ARG",
            "COL",
            "TTO",
            "PAN",
            "SVN",
            "MWI",
            "BGR",
            "NAM",
            "FRA",
            "UGA",
            "JAM",
            "HRV",
            "VEN",
            "PRT",
            "MDA",
            "ISR",
            "POL",
            "LKA",
            "MDG",
            "MKD",
            "SGP",
            "EST",
            "RUS",
            "BRA",
            "KGZ",
            "UKR",
            "THA",
            "TZA",
            "MEX",
            "CHN",
            "ROU",
            "ITA",
            "DOM",
            "SVK",
            "BGD",
            "GHA",
            "URY",
            "KEN",
            "CYP",
            "PER",
            "GRC",
            "HND",
            "CZE",
            "MLT",
            "BWA",
            "GEO",
            "HUN",
            "PRY",
            "CHL",
            "IDN",
            "SLV",
            "MUS",
            "CMR",
            "IND",
            "MYS",
            "BFA",
            "KHM",
            "JPN",
            "NGA",
            "ALB",
            "ARE",
            "KOR",
            "BHR",
            "ZMB",
            "GTM",
            "KWT",
            "ETH",
            "JOR",
            "TUR",
            "NPL",
            "DZA",
            "EGY",
            "BEN",
            "SAU",
            "MLI",
            "MAR",
            "IRN",
            "MRT",
            "TCD",
            "PAK",
            "YEM"
           ],
           "name": "",
           "type": "choropleth",
           "z": [
            0.8496,
            0.826,
            0.8404,
            0.8024,
            0.7654,
            0.7773,
            0.7808,
            0.7719,
            0.7562,
            0.7176,
            0.7509,
            0.7429,
            0.7444,
            0.753,
            0.7678,
            0.7535,
            0.746,
            0.7091,
            0.7372,
            0.7231,
            0.7411,
            0.7271,
            0.7072,
            0.6751,
            0.7132,
            0.7554,
            0.7194,
            0.7055,
            0.7194,
            0.7187,
            0.6927,
            0.7353,
            0.7072,
            0.7047,
            0.6824,
            0.6983,
            0.7238,
            0.7025,
            0.7169,
            0.7037,
            0.6939,
            0.6863,
            0.7171,
            0.716,
            0.6957,
            0.7037,
            0.7458,
            0.6713,
            0.6996,
            0.6914,
            0.7018,
            0.7036,
            0.6655,
            0.6973,
            0.6869,
            0.691,
            0.6829,
            0.6577,
            0.6881,
            0.6826,
            0.6765,
            0.6774,
            0.6778,
            0.6702,
            0.6782,
            0.6897,
            0.6499,
            0.6642,
            0.6895,
            0.6908,
            0.6927,
            0.685,
            0.6695,
            0.6876,
            0.6598,
            0.672,
            0.6804,
            0.7013,
            0.6615,
            0.6596,
            0.652,
            0.611,
            0.6155,
            0.6479,
            0.6162,
            0.6482,
            0.6524,
            0.6055,
            0.6726,
            0.6397,
            0.6342,
            0.6217,
            0.6293,
            0.6238,
            0.6318,
            0.6019,
            0.6048,
            0.5876,
            0.6084,
            0.6052,
            0.5899,
            0.5719,
            0.5713,
            0.568,
            0.5767,
            0.5933,
            0.6152,
            0.533,
            0.5465,
            0.4603
           ]
          }
         ],
         "name": "2010 Score"
        },
        {
         "data": [
          {
           "coloraxis": "coloraxis",
           "geo": "geo",
           "hovertemplate": "level_2=2011 Score<br>ISO3=%{location}<br>0=%{z}<extra></extra>",
           "locations": [
            "ISL",
            "FIN",
            "NOR",
            "SWE",
            "PHL",
            "IRL",
            "NZL",
            "DNK",
            "CHE",
            "NIC",
            "BEL",
            "LVA",
            "NLD",
            "DEU",
            "LSO",
            "ZAF",
            "GBR",
            "AUT",
            "CAN",
            "LUX",
            "USA",
            "AUS",
            "ECU",
            "BOL",
            "LTU",
            "ESP",
            "CRI",
            "KAZ",
            "MNG",
            "ARG",
            "COL",
            "TTO",
            "PAN",
            "SVN",
            "MWI",
            "BGR",
            "NAM",
            "FRA",
            "UGA",
            "JAM",
            "HRV",
            "VEN",
            "PRT",
            "MDA",
            "ISR",
            "POL",
            "LKA",
            "MDG",
            "MKD",
            "SGP",
            "EST",
            "RUS",
            "BRA",
            "KGZ",
            "UKR",
            "THA",
            "TZA",
            "MEX",
            "CHN",
            "ROU",
            "ITA",
            "DOM",
            "SVK",
            "BGD",
            "GHA",
            "URY",
            "KEN",
            "CYP",
            "PER",
            "GRC",
            "HND",
            "CZE",
            "MLT",
            "BWA",
            "GEO",
            "HUN",
            "PRY",
            "CHL",
            "IDN",
            "SLV",
            "MUS",
            "CMR",
            "IND",
            "MYS",
            "BFA",
            "KHM",
            "JPN",
            "NGA",
            "ALB",
            "ARE",
            "KOR",
            "BHR",
            "ZMB",
            "GTM",
            "KWT",
            "ETH",
            "JOR",
            "TUR",
            "NPL",
            "DZA",
            "EGY",
            "BEN",
            "SAU",
            "MLI",
            "MAR",
            "IRN",
            "MRT",
            "TCD",
            "PAK",
            "YEM"
           ],
           "name": "",
           "type": "choropleth",
           "z": [
            0.853,
            0.8383,
            0.8404,
            0.8044,
            0.7685,
            0.783,
            0.781,
            0.7778,
            0.7627,
            0.7245,
            0.7531,
            0.7399,
            0.747,
            0.759,
            0.7666,
            0.7478,
            0.7462,
            0.7165,
            0.7407,
            0.7216,
            0.7412,
            0.7291,
            0.7035,
            0.6862,
            0.7131,
            0.758,
            0.7266,
            0.701,
            0.714,
            0.7236,
            0.6714,
            0.7372,
            0.7042,
            0.7041,
            0.685,
            0.6987,
            0.7177,
            0.7018,
            0.722,
            0.7028,
            0.7006,
            0.6861,
            0.7144,
            0.7083,
            0.6926,
            0.7038,
            0.7212,
            0.6797,
            0.6966,
            0.6914,
            0.6983,
            0.7037,
            0.6679,
            0.7036,
            0.6861,
            0.6892,
            0.6904,
            0.6604,
            0.6866,
            0.6812,
            0.6796,
            0.6682,
            0.6797,
            0.6812,
            0.6811,
            0.6907,
            0.6493,
            0.6567,
            0.6796,
            0.6916,
            0.6945,
            0.6789,
            0.6658,
            0.6832,
            0.6624,
            0.6642,
            0.6818,
            0.703,
            0.6594,
            0.6567,
            0.6529,
            0.6073,
            0.619,
            0.6525,
            0.6153,
            0.6464,
            0.6514,
            0.6011,
            0.6748,
            0.6454,
            0.6281,
            0.6232,
            0.63,
            0.6229,
            0.6322,
            0.6136,
            0.6117,
            0.5954,
            0.5888,
            0.5991,
            0.5933,
            0.5832,
            0.5753,
            0.5752,
            0.5804,
            0.5894,
            0.6164,
            0.5334,
            0.5583,
            0.4873
           ]
          }
         ],
         "name": "2011 Score"
        },
        {
         "data": [
          {
           "coloraxis": "coloraxis",
           "geo": "geo",
           "hovertemplate": "level_2=2012 Score<br>ISO3=%{location}<br>0=%{z}<extra></extra>",
           "locations": [
            "ISL",
            "FIN",
            "NOR",
            "SWE",
            "PHL",
            "IRL",
            "NZL",
            "DNK",
            "CHE",
            "NIC",
            "BEL",
            "LVA",
            "NLD",
            "DEU",
            "LSO",
            "ZAF",
            "GBR",
            "AUT",
            "CAN",
            "LUX",
            "USA",
            "AUS",
            "ECU",
            "BOL",
            "LTU",
            "ESP",
            "CRI",
            "KAZ",
            "MNG",
            "ARG",
            "COL",
            "TTO",
            "PAN",
            "SVN",
            "MWI",
            "BGR",
            "NAM",
            "FRA",
            "UGA",
            "JAM",
            "HRV",
            "VEN",
            "PRT",
            "MDA",
            "ISR",
            "POL",
            "LKA",
            "MDG",
            "MKD",
            "SGP",
            "EST",
            "RUS",
            "BRA",
            "KGZ",
            "UKR",
            "THA",
            "TZA",
            "MEX",
            "CHN",
            "ROU",
            "ITA",
            "DOM",
            "SVK",
            "BGD",
            "GHA",
            "URY",
            "KEN",
            "CYP",
            "PER",
            "GRC",
            "HND",
            "CZE",
            "MLT",
            "BWA",
            "GEO",
            "HUN",
            "PRY",
            "CHL",
            "IDN",
            "SLV",
            "MUS",
            "CMR",
            "IND",
            "MYS",
            "BFA",
            "KHM",
            "JPN",
            "NGA",
            "ALB",
            "ARE",
            "KOR",
            "BHR",
            "ZMB",
            "GTM",
            "KWT",
            "ETH",
            "JOR",
            "TUR",
            "NPL",
            "DZA",
            "EGY",
            "BEN",
            "SAU",
            "MLI",
            "MAR",
            "IRN",
            "MRT",
            "TCD",
            "PAK",
            "YEM"
           ],
           "name": "",
           "type": "choropleth",
           "z": [
            0.864,
            0.8451,
            0.8403,
            0.8159,
            0.7757,
            0.7839,
            0.7805,
            0.7777,
            0.7672,
            0.7697,
            0.7652,
            0.7572,
            0.7659,
            0.7629,
            0.7608,
            0.7496,
            0.7433,
            0.7391,
            0.7381,
            0.7439,
            0.7373,
            0.7294,
            0.7206,
            0.7222,
            0.7191,
            0.7266,
            0.7225,
            0.7213,
            0.7111,
            0.7212,
            0.6901,
            0.7116,
            0.7122,
            0.7132,
            0.7166,
            0.7021,
            0.7121,
            0.6984,
            0.7228,
            0.7035,
            0.7053,
            0.706,
            0.7071,
            0.7101,
            0.6989,
            0.7015,
            0.7122,
            0.6982,
            0.6968,
            0.6989,
            0.6977,
            0.698,
            0.6909,
            0.7013,
            0.6894,
            0.6893,
            0.7091,
            0.6712,
            0.6853,
            0.6859,
            0.6729,
            0.6659,
            0.6824,
            0.6684,
            0.6778,
            0.6745,
            0.6768,
            0.6732,
            0.6742,
            0.6716,
            0.6763,
            0.6767,
            0.6666,
            0.6744,
            0.6691,
            0.6718,
            0.6714,
            0.6676,
            0.6591,
            0.663,
            0.6547,
            0.6291,
            0.6442,
            0.6539,
            0.6455,
            0.6457,
            0.653,
            0.6315,
            0.6655,
            0.6392,
            0.6356,
            0.6298,
            0.6279,
            0.626,
            0.632,
            0.62,
            0.6103,
            0.6015,
            0.6026,
            0.6112,
            0.5975,
            0.6258,
            0.5731,
            0.5842,
            0.5833,
            0.5927,
            0.6129,
            0.5594,
            0.5478,
            0.5054
           ]
          }
         ],
         "name": "2012 Score"
        },
        {
         "data": [
          {
           "coloraxis": "coloraxis",
           "geo": "geo",
           "hovertemplate": "level_2=2013 Score<br>ISO3=%{location}<br>0=%{z}<extra></extra>",
           "locations": [
            "ISL",
            "FIN",
            "NOR",
            "SWE",
            "PHL",
            "IRL",
            "NZL",
            "DNK",
            "CHE",
            "NIC",
            "BEL",
            "LVA",
            "NLD",
            "DEU",
            "LSO",
            "ZAF",
            "GBR",
            "AUT",
            "CAN",
            "LUX",
            "USA",
            "AUS",
            "ECU",
            "BOL",
            "LTU",
            "ESP",
            "CRI",
            "KAZ",
            "MNG",
            "ARG",
            "COL",
            "TTO",
            "PAN",
            "SVN",
            "MWI",
            "BGR",
            "NAM",
            "FRA",
            "UGA",
            "JAM",
            "HRV",
            "VEN",
            "PRT",
            "MDA",
            "ISR",
            "POL",
            "LKA",
            "MDG",
            "MKD",
            "SGP",
            "EST",
            "RUS",
            "BRA",
            "KGZ",
            "UKR",
            "THA",
            "TZA",
            "MEX",
            "CHN",
            "ROU",
            "ITA",
            "DOM",
            "SVK",
            "BGD",
            "GHA",
            "URY",
            "KEN",
            "CYP",
            "PER",
            "GRC",
            "HND",
            "CZE",
            "MLT",
            "BWA",
            "GEO",
            "HUN",
            "PRY",
            "CHL",
            "IDN",
            "SLV",
            "MUS",
            "CMR",
            "IND",
            "MYS",
            "BFA",
            "KHM",
            "JPN",
            "NGA",
            "ALB",
            "ARE",
            "KOR",
            "BHR",
            "ZMB",
            "GTM",
            "KWT",
            "ETH",
            "JOR",
            "TUR",
            "NPL",
            "DZA",
            "EGY",
            "BEN",
            "SAU",
            "MLI",
            "MAR",
            "IRN",
            "MRT",
            "TCD",
            "PAK",
            "YEM"
           ],
           "name": "",
           "type": "choropleth",
           "z": [
            0.8731,
            0.8421,
            0.8417,
            0.8129,
            0.7832,
            0.7823,
            0.7799,
            0.7779,
            0.7736,
            0.7715,
            0.7684,
            0.761,
            0.7608,
            0.7583,
            0.753,
            0.751,
            0.744,
            0.7437,
            0.7425,
            0.741,
            0.7392,
            0.739,
            0.7389,
            0.734,
            0.7308,
            0.7266,
            0.7241,
            0.7218,
            0.7204,
            0.7195,
            0.7171,
            0.7166,
            0.7164,
            0.7155,
            0.7139,
            0.7097,
            0.7094,
            0.7089,
            0.7086,
            0.7085,
            0.7069,
            0.706,
            0.7056,
            0.7037,
            0.7032,
            0.7031,
            0.7019,
            0.7016,
            0.7013,
            0.7,
            0.6997,
            0.6983,
            0.6949,
            0.6948,
            0.6935,
            0.6928,
            0.6928,
            0.6917,
            0.6908,
            0.6908,
            0.6885,
            0.6867,
            0.6857,
            0.6848,
            0.6811,
            0.6803,
            0.6803,
            0.6801,
            0.6787,
            0.6782,
            0.6773,
            0.677,
            0.6761,
            0.6752,
            0.675,
            0.6742,
            0.6724,
            0.667,
            0.6613,
            0.6609,
            0.6599,
            0.656,
            0.6551,
            0.6518,
            0.6513,
            0.6509,
            0.6498,
            0.6469,
            0.6412,
            0.6372,
            0.6351,
            0.6334,
            0.6312,
            0.6304,
            0.6292,
            0.6198,
            0.6093,
            0.6081,
            0.6053,
            0.5966,
            0.5935,
            0.5885,
            0.5879,
            0.5872,
            0.5845,
            0.5842,
            0.581,
            0.5588,
            0.5459,
            0.5128
           ]
          }
         ],
         "name": "2013 Score"
        }
       ],
       "layout": {
        "coloraxis": {
         "colorbar": {
          "title": {
           "text": "0"
          }
         },
         "colorscale": [
          [
           0,
           "#0d0887"
          ],
          [
           0.1111111111111111,
           "#46039f"
          ],
          [
           0.2222222222222222,
           "#7201a8"
          ],
          [
           0.3333333333333333,
           "#9c179e"
          ],
          [
           0.4444444444444444,
           "#bd3786"
          ],
          [
           0.5555555555555556,
           "#d8576b"
          ],
          [
           0.6666666666666666,
           "#ed7953"
          ],
          [
           0.7777777777777778,
           "#fb9f3a"
          ],
          [
           0.8888888888888888,
           "#fdca26"
          ],
          [
           1,
           "#f0f921"
          ]
         ]
        },
        "geo": {
         "center": {},
         "domain": {
          "x": [
           0,
           1
          ],
          "y": [
           0,
           1
          ]
         },
         "projection": {
          "type": "kavrayskiy7"
         },
         "scope": "world"
        },
        "legend": {
         "tracegroupgap": 0
        },
        "sliders": [
         {
          "active": 0,
          "currentvalue": {
           "prefix": "level_2="
          },
          "len": 0.9,
          "pad": {
           "b": 10,
           "t": 60
          },
          "steps": [
           {
            "args": [
             [
              "2006 Score"
             ],
             {
              "frame": {
               "duration": 0,
               "redraw": true
              },
              "fromcurrent": true,
              "mode": "immediate",
              "transition": {
               "duration": 0,
               "easing": "linear"
              }
             }
            ],
            "label": "2006 Score",
            "method": "animate"
           },
           {
            "args": [
             [
              "2007 Score"
             ],
             {
              "frame": {
               "duration": 0,
               "redraw": true
              },
              "fromcurrent": true,
              "mode": "immediate",
              "transition": {
               "duration": 0,
               "easing": "linear"
              }
             }
            ],
            "label": "2007 Score",
            "method": "animate"
           },
           {
            "args": [
             [
              "2008 Score"
             ],
             {
              "frame": {
               "duration": 0,
               "redraw": true
              },
              "fromcurrent": true,
              "mode": "immediate",
              "transition": {
               "duration": 0,
               "easing": "linear"
              }
             }
            ],
            "label": "2008 Score",
            "method": "animate"
           },
           {
            "args": [
             [
              "2009 Score"
             ],
             {
              "frame": {
               "duration": 0,
               "redraw": true
              },
              "fromcurrent": true,
              "mode": "immediate",
              "transition": {
               "duration": 0,
               "easing": "linear"
              }
             }
            ],
            "label": "2009 Score",
            "method": "animate"
           },
           {
            "args": [
             [
              "2010 Score"
             ],
             {
              "frame": {
               "duration": 0,
               "redraw": true
              },
              "fromcurrent": true,
              "mode": "immediate",
              "transition": {
               "duration": 0,
               "easing": "linear"
              }
             }
            ],
            "label": "2010 Score",
            "method": "animate"
           },
           {
            "args": [
             [
              "2011 Score"
             ],
             {
              "frame": {
               "duration": 0,
               "redraw": true
              },
              "fromcurrent": true,
              "mode": "immediate",
              "transition": {
               "duration": 0,
               "easing": "linear"
              }
             }
            ],
            "label": "2011 Score",
            "method": "animate"
           },
           {
            "args": [
             [
              "2012 Score"
             ],
             {
              "frame": {
               "duration": 0,
               "redraw": true
              },
              "fromcurrent": true,
              "mode": "immediate",
              "transition": {
               "duration": 0,
               "easing": "linear"
              }
             }
            ],
            "label": "2012 Score",
            "method": "animate"
           },
           {
            "args": [
             [
              "2013 Score"
             ],
             {
              "frame": {
               "duration": 0,
               "redraw": true
              },
              "fromcurrent": true,
              "mode": "immediate",
              "transition": {
               "duration": 0,
               "easing": "linear"
              }
             }
            ],
            "label": "2013 Score",
            "method": "animate"
           }
          ],
          "x": 0.1,
          "xanchor": "left",
          "y": 0,
          "yanchor": "top"
         }
        ],
        "template": {
         "data": {
          "bar": [
           {
            "error_x": {
             "color": "#2a3f5f"
            },
            "error_y": {
             "color": "#2a3f5f"
            },
            "marker": {
             "line": {
              "color": "#E5ECF6",
              "width": 0.5
             },
             "pattern": {
              "fillmode": "overlay",
              "size": 10,
              "solidity": 0.2
             }
            },
            "type": "bar"
           }
          ],
          "barpolar": [
           {
            "marker": {
             "line": {
              "color": "#E5ECF6",
              "width": 0.5
             },
             "pattern": {
              "fillmode": "overlay",
              "size": 10,
              "solidity": 0.2
             }
            },
            "type": "barpolar"
           }
          ],
          "carpet": [
           {
            "aaxis": {
             "endlinecolor": "#2a3f5f",
             "gridcolor": "white",
             "linecolor": "white",
             "minorgridcolor": "white",
             "startlinecolor": "#2a3f5f"
            },
            "baxis": {
             "endlinecolor": "#2a3f5f",
             "gridcolor": "white",
             "linecolor": "white",
             "minorgridcolor": "white",
             "startlinecolor": "#2a3f5f"
            },
            "type": "carpet"
           }
          ],
          "choropleth": [
           {
            "colorbar": {
             "outlinewidth": 0,
             "ticks": ""
            },
            "type": "choropleth"
           }
          ],
          "contour": [
           {
            "colorbar": {
             "outlinewidth": 0,
             "ticks": ""
            },
            "colorscale": [
             [
              0,
              "#0d0887"
             ],
             [
              0.1111111111111111,
              "#46039f"
             ],
             [
              0.2222222222222222,
              "#7201a8"
             ],
             [
              0.3333333333333333,
              "#9c179e"
             ],
             [
              0.4444444444444444,
              "#bd3786"
             ],
             [
              0.5555555555555556,
              "#d8576b"
             ],
             [
              0.6666666666666666,
              "#ed7953"
             ],
             [
              0.7777777777777778,
              "#fb9f3a"
             ],
             [
              0.8888888888888888,
              "#fdca26"
             ],
             [
              1,
              "#f0f921"
             ]
            ],
            "type": "contour"
           }
          ],
          "contourcarpet": [
           {
            "colorbar": {
             "outlinewidth": 0,
             "ticks": ""
            },
            "type": "contourcarpet"
           }
          ],
          "heatmap": [
           {
            "colorbar": {
             "outlinewidth": 0,
             "ticks": ""
            },
            "colorscale": [
             [
              0,
              "#0d0887"
             ],
             [
              0.1111111111111111,
              "#46039f"
             ],
             [
              0.2222222222222222,
              "#7201a8"
             ],
             [
              0.3333333333333333,
              "#9c179e"
             ],
             [
              0.4444444444444444,
              "#bd3786"
             ],
             [
              0.5555555555555556,
              "#d8576b"
             ],
             [
              0.6666666666666666,
              "#ed7953"
             ],
             [
              0.7777777777777778,
              "#fb9f3a"
             ],
             [
              0.8888888888888888,
              "#fdca26"
             ],
             [
              1,
              "#f0f921"
             ]
            ],
            "type": "heatmap"
           }
          ],
          "heatmapgl": [
           {
            "colorbar": {
             "outlinewidth": 0,
             "ticks": ""
            },
            "colorscale": [
             [
              0,
              "#0d0887"
             ],
             [
              0.1111111111111111,
              "#46039f"
             ],
             [
              0.2222222222222222,
              "#7201a8"
             ],
             [
              0.3333333333333333,
              "#9c179e"
             ],
             [
              0.4444444444444444,
              "#bd3786"
             ],
             [
              0.5555555555555556,
              "#d8576b"
             ],
             [
              0.6666666666666666,
              "#ed7953"
             ],
             [
              0.7777777777777778,
              "#fb9f3a"
             ],
             [
              0.8888888888888888,
              "#fdca26"
             ],
             [
              1,
              "#f0f921"
             ]
            ],
            "type": "heatmapgl"
           }
          ],
          "histogram": [
           {
            "marker": {
             "pattern": {
              "fillmode": "overlay",
              "size": 10,
              "solidity": 0.2
             }
            },
            "type": "histogram"
           }
          ],
          "histogram2d": [
           {
            "colorbar": {
             "outlinewidth": 0,
             "ticks": ""
            },
            "colorscale": [
             [
              0,
              "#0d0887"
             ],
             [
              0.1111111111111111,
              "#46039f"
             ],
             [
              0.2222222222222222,
              "#7201a8"
             ],
             [
              0.3333333333333333,
              "#9c179e"
             ],
             [
              0.4444444444444444,
              "#bd3786"
             ],
             [
              0.5555555555555556,
              "#d8576b"
             ],
             [
              0.6666666666666666,
              "#ed7953"
             ],
             [
              0.7777777777777778,
              "#fb9f3a"
             ],
             [
              0.8888888888888888,
              "#fdca26"
             ],
             [
              1,
              "#f0f921"
             ]
            ],
            "type": "histogram2d"
           }
          ],
          "histogram2dcontour": [
           {
            "colorbar": {
             "outlinewidth": 0,
             "ticks": ""
            },
            "colorscale": [
             [
              0,
              "#0d0887"
             ],
             [
              0.1111111111111111,
              "#46039f"
             ],
             [
              0.2222222222222222,
              "#7201a8"
             ],
             [
              0.3333333333333333,
              "#9c179e"
             ],
             [
              0.4444444444444444,
              "#bd3786"
             ],
             [
              0.5555555555555556,
              "#d8576b"
             ],
             [
              0.6666666666666666,
              "#ed7953"
             ],
             [
              0.7777777777777778,
              "#fb9f3a"
             ],
             [
              0.8888888888888888,
              "#fdca26"
             ],
             [
              1,
              "#f0f921"
             ]
            ],
            "type": "histogram2dcontour"
           }
          ],
          "mesh3d": [
           {
            "colorbar": {
             "outlinewidth": 0,
             "ticks": ""
            },
            "type": "mesh3d"
           }
          ],
          "parcoords": [
           {
            "line": {
             "colorbar": {
              "outlinewidth": 0,
              "ticks": ""
             }
            },
            "type": "parcoords"
           }
          ],
          "pie": [
           {
            "automargin": true,
            "type": "pie"
           }
          ],
          "scatter": [
           {
            "fillpattern": {
             "fillmode": "overlay",
             "size": 10,
             "solidity": 0.2
            },
            "type": "scatter"
           }
          ],
          "scatter3d": [
           {
            "line": {
             "colorbar": {
              "outlinewidth": 0,
              "ticks": ""
             }
            },
            "marker": {
             "colorbar": {
              "outlinewidth": 0,
              "ticks": ""
             }
            },
            "type": "scatter3d"
           }
          ],
          "scattercarpet": [
           {
            "marker": {
             "colorbar": {
              "outlinewidth": 0,
              "ticks": ""
             }
            },
            "type": "scattercarpet"
           }
          ],
          "scattergeo": [
           {
            "marker": {
             "colorbar": {
              "outlinewidth": 0,
              "ticks": ""
             }
            },
            "type": "scattergeo"
           }
          ],
          "scattergl": [
           {
            "marker": {
             "colorbar": {
              "outlinewidth": 0,
              "ticks": ""
             }
            },
            "type": "scattergl"
           }
          ],
          "scattermapbox": [
           {
            "marker": {
             "colorbar": {
              "outlinewidth": 0,
              "ticks": ""
             }
            },
            "type": "scattermapbox"
           }
          ],
          "scatterpolar": [
           {
            "marker": {
             "colorbar": {
              "outlinewidth": 0,
              "ticks": ""
             }
            },
            "type": "scatterpolar"
           }
          ],
          "scatterpolargl": [
           {
            "marker": {
             "colorbar": {
              "outlinewidth": 0,
              "ticks": ""
             }
            },
            "type": "scatterpolargl"
           }
          ],
          "scatterternary": [
           {
            "marker": {
             "colorbar": {
              "outlinewidth": 0,
              "ticks": ""
             }
            },
            "type": "scatterternary"
           }
          ],
          "surface": [
           {
            "colorbar": {
             "outlinewidth": 0,
             "ticks": ""
            },
            "colorscale": [
             [
              0,
              "#0d0887"
             ],
             [
              0.1111111111111111,
              "#46039f"
             ],
             [
              0.2222222222222222,
              "#7201a8"
             ],
             [
              0.3333333333333333,
              "#9c179e"
             ],
             [
              0.4444444444444444,
              "#bd3786"
             ],
             [
              0.5555555555555556,
              "#d8576b"
             ],
             [
              0.6666666666666666,
              "#ed7953"
             ],
             [
              0.7777777777777778,
              "#fb9f3a"
             ],
             [
              0.8888888888888888,
              "#fdca26"
             ],
             [
              1,
              "#f0f921"
             ]
            ],
            "type": "surface"
           }
          ],
          "table": [
           {
            "cells": {
             "fill": {
              "color": "#EBF0F8"
             },
             "line": {
              "color": "white"
             }
            },
            "header": {
             "fill": {
              "color": "#C8D4E3"
             },
             "line": {
              "color": "white"
             }
            },
            "type": "table"
           }
          ]
         },
         "layout": {
          "annotationdefaults": {
           "arrowcolor": "#2a3f5f",
           "arrowhead": 0,
           "arrowwidth": 1
          },
          "autotypenumbers": "strict",
          "coloraxis": {
           "colorbar": {
            "outlinewidth": 0,
            "ticks": ""
           }
          },
          "colorscale": {
           "diverging": [
            [
             0,
             "#8e0152"
            ],
            [
             0.1,
             "#c51b7d"
            ],
            [
             0.2,
             "#de77ae"
            ],
            [
             0.3,
             "#f1b6da"
            ],
            [
             0.4,
             "#fde0ef"
            ],
            [
             0.5,
             "#f7f7f7"
            ],
            [
             0.6,
             "#e6f5d0"
            ],
            [
             0.7,
             "#b8e186"
            ],
            [
             0.8,
             "#7fbc41"
            ],
            [
             0.9,
             "#4d9221"
            ],
            [
             1,
             "#276419"
            ]
           ],
           "sequential": [
            [
             0,
             "#0d0887"
            ],
            [
             0.1111111111111111,
             "#46039f"
            ],
            [
             0.2222222222222222,
             "#7201a8"
            ],
            [
             0.3333333333333333,
             "#9c179e"
            ],
            [
             0.4444444444444444,
             "#bd3786"
            ],
            [
             0.5555555555555556,
             "#d8576b"
            ],
            [
             0.6666666666666666,
             "#ed7953"
            ],
            [
             0.7777777777777778,
             "#fb9f3a"
            ],
            [
             0.8888888888888888,
             "#fdca26"
            ],
            [
             1,
             "#f0f921"
            ]
           ],
           "sequentialminus": [
            [
             0,
             "#0d0887"
            ],
            [
             0.1111111111111111,
             "#46039f"
            ],
            [
             0.2222222222222222,
             "#7201a8"
            ],
            [
             0.3333333333333333,
             "#9c179e"
            ],
            [
             0.4444444444444444,
             "#bd3786"
            ],
            [
             0.5555555555555556,
             "#d8576b"
            ],
            [
             0.6666666666666666,
             "#ed7953"
            ],
            [
             0.7777777777777778,
             "#fb9f3a"
            ],
            [
             0.8888888888888888,
             "#fdca26"
            ],
            [
             1,
             "#f0f921"
            ]
           ]
          },
          "colorway": [
           "#636efa",
           "#EF553B",
           "#00cc96",
           "#ab63fa",
           "#FFA15A",
           "#19d3f3",
           "#FF6692",
           "#B6E880",
           "#FF97FF",
           "#FECB52"
          ],
          "font": {
           "color": "#2a3f5f"
          },
          "geo": {
           "bgcolor": "white",
           "lakecolor": "white",
           "landcolor": "#E5ECF6",
           "showlakes": true,
           "showland": true,
           "subunitcolor": "white"
          },
          "hoverlabel": {
           "align": "left"
          },
          "hovermode": "closest",
          "mapbox": {
           "style": "light"
          },
          "paper_bgcolor": "white",
          "plot_bgcolor": "#E5ECF6",
          "polar": {
           "angularaxis": {
            "gridcolor": "white",
            "linecolor": "white",
            "ticks": ""
           },
           "bgcolor": "#E5ECF6",
           "radialaxis": {
            "gridcolor": "white",
            "linecolor": "white",
            "ticks": ""
           }
          },
          "scene": {
           "xaxis": {
            "backgroundcolor": "#E5ECF6",
            "gridcolor": "white",
            "gridwidth": 2,
            "linecolor": "white",
            "showbackground": true,
            "ticks": "",
            "zerolinecolor": "white"
           },
           "yaxis": {
            "backgroundcolor": "#E5ECF6",
            "gridcolor": "white",
            "gridwidth": 2,
            "linecolor": "white",
            "showbackground": true,
            "ticks": "",
            "zerolinecolor": "white"
           },
           "zaxis": {
            "backgroundcolor": "#E5ECF6",
            "gridcolor": "white",
            "gridwidth": 2,
            "linecolor": "white",
            "showbackground": true,
            "ticks": "",
            "zerolinecolor": "white"
           }
          },
          "shapedefaults": {
           "line": {
            "color": "#2a3f5f"
           }
          },
          "ternary": {
           "aaxis": {
            "gridcolor": "white",
            "linecolor": "white",
            "ticks": ""
           },
           "baxis": {
            "gridcolor": "white",
            "linecolor": "white",
            "ticks": ""
           },
           "bgcolor": "#E5ECF6",
           "caxis": {
            "gridcolor": "white",
            "linecolor": "white",
            "ticks": ""
           }
          },
          "title": {
           "x": 0.05
          },
          "xaxis": {
           "automargin": true,
           "gridcolor": "white",
           "linecolor": "white",
           "ticks": "",
           "title": {
            "standoff": 15
           },
           "zerolinecolor": "white",
           "zerolinewidth": 2
          },
          "yaxis": {
           "automargin": true,
           "gridcolor": "white",
           "linecolor": "white",
           "ticks": "",
           "title": {
            "standoff": 15
           },
           "zerolinecolor": "white",
           "zerolinewidth": 2
          }
         }
        },
        "title": {
         "text": "Fig.6: Evolution Of Gender Gap score from 2006 to 2013"
        },
        "updatemenus": [
         {
          "buttons": [
           {
            "args": [
             null,
             {
              "frame": {
               "duration": 500,
               "redraw": true
              },
              "fromcurrent": true,
              "mode": "immediate",
              "transition": {
               "duration": 500,
               "easing": "linear"
              }
             }
            ],
            "label": "&#9654;",
            "method": "animate"
           },
           {
            "args": [
             [
              null
             ],
             {
              "frame": {
               "duration": 0,
               "redraw": true
              },
              "fromcurrent": true,
              "mode": "immediate",
              "transition": {
               "duration": 0,
               "easing": "linear"
              }
             }
            ],
            "label": "&#9724;",
            "method": "animate"
           }
          ],
          "direction": "left",
          "pad": {
           "r": 10,
           "t": 70
          },
          "showactive": false,
          "type": "buttons",
          "x": 0.1,
          "xanchor": "right",
          "y": 0,
          "yanchor": "top"
         }
        ]
       }
      }
     },
     "metadata": {},
     "output_type": "display_data"
    }
   ],
   "source": [
    "fig6=px.choropleth(df_timeseries1,\n",
    "              locations=df_timeseries1.ISO3,\n",
    "              color=df_timeseries1[0],\n",
    "              projection='kavrayskiy7',\n",
    "              scope='world',\n",
    "              animation_frame = df_timeseries1['level_2'],\n",
    "              title='Fig.6: Evolution Of Gender Gap score from 2006 to 2013')\n",
    "\n",
    "fig6.show()"
   ]
  },
  {
   "cell_type": "markdown",
   "metadata": {},
   "source": [
    "From Fig.6, we could find an interesting fact that many countries was improving their performance on gender equality issue from 2006, but due to some unknown reason, after 2011 or 2012, gender gap score of some countries decrease. "
   ]
  },
  {
   "cell_type": "markdown",
   "metadata": {},
   "source": [
    "The most important problem is, what causes the gender inequality? We want to find the reason based on the datasets we have in this project. "
   ]
  },
  {
   "cell_type": "code",
   "execution_count": 19,
   "metadata": {},
   "outputs": [
    {
     "name": "stdout",
     "output_type": "stream",
     "text": [
      "   Overall Score  Economic Participation and Opportunity Score  \\\n",
      "0         0.8731                                        0.7684   \n",
      "1         0.8421                                        0.7727   \n",
      "2         0.8417                                        0.8357   \n",
      "3         0.8129                                        0.7829   \n",
      "4         0.7832                                        0.7773   \n",
      "\n",
      "   Educational Attainment Score  Health and Survival Score  \\\n",
      "0                        1.0000                     0.9696   \n",
      "1                        1.0000                     0.9796   \n",
      "2                        1.0000                     0.9697   \n",
      "3                        0.9977                     0.9735   \n",
      "4                        1.0000                     0.9796   \n",
      "\n",
      "   Political Empowerment Score  \n",
      "0                       0.7544  \n",
      "1                       0.6162  \n",
      "2                       0.5616  \n",
      "3                       0.4976  \n",
      "4                       0.3760  \n"
     ]
    }
   ],
   "source": [
    "newdf=df[[\"Overall Score\", \"Economic Participation and Opportunity Score\", \"Educational Attainment Score\", \"Health and Survival Score\", \"Political Empowerment Score\"]]\n",
    "print(newdf.head())"
   ]
  },
  {
   "cell_type": "code",
   "execution_count": 20,
   "metadata": {},
   "outputs": [
    {
     "data": {
      "text/plain": [
       "<AxesSubplot:>"
      ]
     },
     "execution_count": 20,
     "metadata": {},
     "output_type": "execute_result"
    },
    {
     "data": {
      "image/png": "[encoded data removed]",
      "text/plain": [
       "<Figure size 640x480 with 2 Axes>"
      ]
     },
     "metadata": {},
     "output_type": "display_data"
    }
   ],
   "source": [
    "crr=newdf.corr()\n",
    "sns.heatmap(crr, cmap=\"Pastel2_r\", annot=True, linewidths=.5)"
   ]
  },
  {
   "cell_type": "markdown",
   "metadata": {},
   "source": [
    "It seems that gender gap score is more related to the Economic Participation and Opportunity Score, Political Empowerment Score, and is partially related to Educational Attainment Score, but is lowly related to Health and Survival Score."
   ]
  },
  {
   "cell_type": "code",
   "execution_count": 21,
   "metadata": {},
   "outputs": [
    {
     "data": {
      "image/png": "[encoded data removed]",
      "text/plain": [
       "<Figure size 1200x1200 with 4 Axes>"
      ]
     },
     "metadata": {},
     "output_type": "display_data"
    }
   ],
   "source": [
    "col=['Economic Participation and Opportunity Score',\n",
    "       'Educational Attainment Score', 'Health and Survival Score',\n",
    "       'Political Empowerment Score']\n",
    "fig = plt.figure(figsize=(12,12))\n",
    "\n",
    "for i in range(len(col)):\n",
    "    plt.subplot(2,2,i+1)\n",
    "    plt.title(col[i])\n",
    "    sns.regplot(data=newdf,x=newdf[col[i]],y=df['Overall Score'])\n",
    "\n",
    "plt.tight_layout()\n",
    "plt.show()"
   ]
  },
  {
   "cell_type": "markdown",
   "metadata": {},
   "source": [
    "The regplot graphs perfectly fit the statement before, that is, gender gap score is more related to the Economic Participation and Opportunity Score, Political Empowerment Score, and is partially related to Educational Attainment Score, but is lowly related to Health and Survival Score."
   ]
  },
  {
   "cell_type": "code",
   "execution_count": 48,
   "metadata": {},
   "outputs": [
    {
     "name": "stdout",
     "output_type": "stream",
     "text": [
      "Parameter containing:\n",
      "tensor([[0.3730, 0.0190, 0.3177, 0.3510]], requires_grad=True)\n"
     ]
    }
   ],
   "source": [
    "import torch \n",
    "import torch.nn as nn\n",
    "\n",
    "xxx=torch.tensor(newdf[['Economic Participation and Opportunity Score',\n",
    "        'Health and Survival Score',\n",
    "        'Educational Attainment Score',\n",
    "        'Political Empowerment Score']].values, dtype=torch.float32)\n",
    "yyy=torch.tensor(newdf[\"Overall Score\"].values, dtype=torch.float32).view(-1,1)\n",
    "n_samples, n_features=xxx.shape\n",
    "\n",
    "model=nn.Linear(n_features, 1)\n",
    "learning_rate=0.02\n",
    "n_iters = 10\n",
    "\n",
    "loss=nn.MSELoss()\n",
    "optimizer=torch.optim.Adam(model.parameters(), lr=learning_rate)\n",
    "\n",
    "for epoch in range(n_iters):\n",
    "    y_pred=model(xxx)\n",
    "\n",
    "    l=loss(yyy, y_pred)\n",
    "\n",
    "    l.backward()\n",
    "\n",
    "    optimizer.step()\n",
    "\n",
    "    optimizer.zero_grad()\n",
    "\n",
    "a=iter(model.parameters())\n",
    "b=next(a)\n",
    "\n",
    "print(b)\n"
   ]
  }
 ],
 "metadata": {
  "kernelspec": {
   "display_name": "Python 3.10.6 64-bit",
   "language": "python",
   "name": "python3"
  },
  "language_info": {
   "codemirror_mode": {
    "name": "ipython",
    "version": 3
   },
   "file_extension": ".py",
   "mimetype": "text/x-python",
   "name": "python",
   "nbconvert_exporter": "python",
   "pygments_lexer": "ipython3",
   "version": "3.10.6"
  },
  "orig_nbformat": 4,
  "vscode": {
   "interpreter": {
    "hash": "8d4c0c068dbc3a0e32f455ee20b21324959693e968c5f5ea7f65133b266c1346"
   }
  }
 },
 "nbformat": 4,
 "nbformat_minor": 2
}
